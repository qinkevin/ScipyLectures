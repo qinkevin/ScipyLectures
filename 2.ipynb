{
 "cells": [
  {
   "cell_type": "code",
   "execution_count": 1,
   "metadata": {
    "collapsed": true
   },
   "outputs": [],
   "source": [
    "l=['red','blue','green','black','white']"
   ]
  },
  {
   "cell_type": "code",
   "execution_count": 2,
   "metadata": {
    "collapsed": false
   },
   "outputs": [
    {
     "data": {
      "text/plain": [
       "list"
      ]
     },
     "execution_count": 2,
     "metadata": {},
     "output_type": "execute_result"
    }
   ],
   "source": [
    "type(l)"
   ]
  },
  {
   "cell_type": "code",
   "execution_count": 3,
   "metadata": {
    "collapsed": false
   },
   "outputs": [
    {
     "data": {
      "text/plain": [
       "'green'"
      ]
     },
     "execution_count": 3,
     "metadata": {},
     "output_type": "execute_result"
    }
   ],
   "source": [
    "l[2]"
   ]
  },
  {
   "cell_type": "code",
   "execution_count": 4,
   "metadata": {
    "collapsed": false
   },
   "outputs": [
    {
     "data": {
      "text/plain": [
       "'white'"
      ]
     },
     "execution_count": 4,
     "metadata": {},
     "output_type": "execute_result"
    }
   ],
   "source": [
    "l[-1]"
   ]
  },
  {
   "cell_type": "code",
   "execution_count": 5,
   "metadata": {
    "collapsed": false
   },
   "outputs": [
    {
     "data": {
      "text/plain": [
       "['green', 'black']"
      ]
     },
     "execution_count": 5,
     "metadata": {},
     "output_type": "execute_result"
    }
   ],
   "source": [
    "l[2:4]"
   ]
  },
  {
   "cell_type": "code",
   "execution_count": 6,
   "metadata": {
    "collapsed": true
   },
   "outputs": [],
   "source": [
    "L=['red','blue','green','black','white']"
   ]
  },
  {
   "cell_type": "code",
   "execution_count": 7,
   "metadata": {
    "collapsed": false
   },
   "outputs": [],
   "source": [
    "L.append('pink')"
   ]
  },
  {
   "cell_type": "code",
   "execution_count": 8,
   "metadata": {
    "collapsed": false
   },
   "outputs": [
    {
     "data": {
      "text/plain": [
       "'pink'"
      ]
     },
     "execution_count": 8,
     "metadata": {},
     "output_type": "execute_result"
    }
   ],
   "source": [
    "L.pop()"
   ]
  },
  {
   "cell_type": "code",
   "execution_count": 9,
   "metadata": {
    "collapsed": false
   },
   "outputs": [
    {
     "data": {
      "text/plain": [
       "['red', 'blue', 'green', 'black', 'white']"
      ]
     },
     "execution_count": 9,
     "metadata": {},
     "output_type": "execute_result"
    }
   ],
   "source": [
    "L"
   ]
  },
  {
   "cell_type": "code",
   "execution_count": 10,
   "metadata": {
    "collapsed": true
   },
   "outputs": [],
   "source": [
    "L.extend(['pink','purple'])"
   ]
  },
  {
   "cell_type": "code",
   "execution_count": 11,
   "metadata": {
    "collapsed": false
   },
   "outputs": [
    {
     "data": {
      "text/plain": [
       "['red', 'blue', 'green', 'black', 'white', 'pink', 'purple']"
      ]
     },
     "execution_count": 11,
     "metadata": {},
     "output_type": "execute_result"
    }
   ],
   "source": [
    "L"
   ]
  },
  {
   "cell_type": "code",
   "execution_count": 12,
   "metadata": {
    "collapsed": false
   },
   "outputs": [
    {
     "data": {
      "text/plain": [
       "['red', 'blue', 'green', 'black', 'white']"
      ]
     },
     "execution_count": 12,
     "metadata": {},
     "output_type": "execute_result"
    }
   ],
   "source": [
    "L[:-2]"
   ]
  },
  {
   "cell_type": "code",
   "execution_count": 13,
   "metadata": {
    "collapsed": false
   },
   "outputs": [
    {
     "data": {
      "text/plain": [
       "['purple', 'pink', 'white', 'black', 'green', 'blue', 'red']"
      ]
     },
     "execution_count": 13,
     "metadata": {},
     "output_type": "execute_result"
    }
   ],
   "source": [
    "L[::-1]"
   ]
  },
  {
   "cell_type": "code",
   "execution_count": 14,
   "metadata": {
    "collapsed": false
   },
   "outputs": [
    {
     "data": {
      "text/plain": [
       "['red', 'blue', 'green', 'black', 'white', 'pink', 'purple']"
      ]
     },
     "execution_count": 14,
     "metadata": {},
     "output_type": "execute_result"
    }
   ],
   "source": [
    "L[::]"
   ]
  },
  {
   "cell_type": "code",
   "execution_count": 15,
   "metadata": {
    "collapsed": false
   },
   "outputs": [
    {
     "data": {
      "text/plain": [
       "list"
      ]
     },
     "execution_count": 15,
     "metadata": {},
     "output_type": "execute_result"
    }
   ],
   "source": [
    "type(L)"
   ]
  },
  {
   "cell_type": "code",
   "execution_count": 16,
   "metadata": {
    "collapsed": true
   },
   "outputs": [],
   "source": [
    "r2=L[::]"
   ]
  },
  {
   "cell_type": "code",
   "execution_count": 17,
   "metadata": {
    "collapsed": false
   },
   "outputs": [],
   "source": [
    "r2.reverse()"
   ]
  },
  {
   "cell_type": "code",
   "execution_count": 18,
   "metadata": {
    "collapsed": false
   },
   "outputs": [
    {
     "data": {
      "text/plain": [
       "['purple', 'pink', 'white', 'black', 'green', 'blue', 'red']"
      ]
     },
     "execution_count": 18,
     "metadata": {},
     "output_type": "execute_result"
    }
   ],
   "source": [
    "r2"
   ]
  },
  {
   "cell_type": "code",
   "execution_count": 19,
   "metadata": {
    "collapsed": false
   },
   "outputs": [
    {
     "data": {
      "text/plain": [
       "['red', 'blue', 'green', 'black', 'white', 'pink', 'purple']"
      ]
     },
     "execution_count": 19,
     "metadata": {},
     "output_type": "execute_result"
    }
   ],
   "source": [
    "L"
   ]
  },
  {
   "cell_type": "code",
   "execution_count": 20,
   "metadata": {
    "collapsed": false
   },
   "outputs": [
    {
     "data": {
      "text/plain": [
       "['purple',\n",
       " 'pink',\n",
       " 'white',\n",
       " 'black',\n",
       " 'green',\n",
       " 'blue',\n",
       " 'red',\n",
       " 'red',\n",
       " 'blue',\n",
       " 'green',\n",
       " 'black',\n",
       " 'white',\n",
       " 'pink',\n",
       " 'purple']"
      ]
     },
     "execution_count": 20,
     "metadata": {},
     "output_type": "execute_result"
    }
   ],
   "source": [
    "r2+L"
   ]
  },
  {
   "cell_type": "code",
   "execution_count": 21,
   "metadata": {
    "collapsed": false
   },
   "outputs": [
    {
     "data": {
      "text/plain": [
       "['purple',\n",
       " 'pink',\n",
       " 'white',\n",
       " 'black',\n",
       " 'green',\n",
       " 'blue',\n",
       " 'red',\n",
       " 'purple',\n",
       " 'pink',\n",
       " 'white',\n",
       " 'black',\n",
       " 'green',\n",
       " 'blue',\n",
       " 'red']"
      ]
     },
     "execution_count": 21,
     "metadata": {},
     "output_type": "execute_result"
    }
   ],
   "source": [
    "r2*2"
   ]
  },
  {
   "cell_type": "code",
   "execution_count": 22,
   "metadata": {
    "collapsed": false
   },
   "outputs": [
    {
     "data": {
      "text/plain": [
       "['black', 'blue', 'green', 'pink', 'purple', 'red', 'white']"
      ]
     },
     "execution_count": 22,
     "metadata": {},
     "output_type": "execute_result"
    }
   ],
   "source": [
    "sorted(r2)"
   ]
  },
  {
   "cell_type": "code",
   "execution_count": 23,
   "metadata": {
    "collapsed": false
   },
   "outputs": [
    {
     "data": {
      "text/plain": [
       "['purple', 'pink', 'white', 'black', 'green', 'blue', 'red']"
      ]
     },
     "execution_count": 23,
     "metadata": {},
     "output_type": "execute_result"
    }
   ],
   "source": [
    "r2"
   ]
  },
  {
   "cell_type": "code",
   "execution_count": 24,
   "metadata": {
    "collapsed": true
   },
   "outputs": [],
   "source": [
    "r2.sort()"
   ]
  },
  {
   "cell_type": "code",
   "execution_count": 25,
   "metadata": {
    "collapsed": false
   },
   "outputs": [
    {
     "data": {
      "text/plain": [
       "['black', 'blue', 'green', 'pink', 'purple', 'red', 'white']"
      ]
     },
     "execution_count": 25,
     "metadata": {},
     "output_type": "execute_result"
    }
   ],
   "source": [
    "r2"
   ]
  },
  {
   "cell_type": "code",
   "execution_count": 26,
   "metadata": {
    "collapsed": false
   },
   "outputs": [
    {
     "data": {
      "text/plain": [
       "1"
      ]
     },
     "execution_count": 26,
     "metadata": {},
     "output_type": "execute_result"
    }
   ],
   "source": [
    "r2.count('black')"
   ]
  },
  {
   "cell_type": "code",
   "execution_count": 27,
   "metadata": {
    "collapsed": true
   },
   "outputs": [],
   "source": [
    "s=\"Hello,how are you\""
   ]
  },
  {
   "cell_type": "code",
   "execution_count": 28,
   "metadata": {
    "collapsed": true
   },
   "outputs": [],
   "source": [
    "s=\"Hi, what's up\""
   ]
  },
  {
   "cell_type": "code",
   "execution_count": 29,
   "metadata": {
    "collapsed": false
   },
   "outputs": [
    {
     "data": {
      "text/plain": [
       "\"Hi, what's up\""
      ]
     },
     "execution_count": 29,
     "metadata": {},
     "output_type": "execute_result"
    }
   ],
   "source": [
    "s"
   ]
  },
  {
   "cell_type": "code",
   "execution_count": 30,
   "metadata": {
    "collapsed": true
   },
   "outputs": [],
   "source": [
    "s?"
   ]
  },
  {
   "cell_type": "code",
   "execution_count": 31,
   "metadata": {
    "collapsed": true
   },
   "outputs": [],
   "source": [
    "a='hello'"
   ]
  },
  {
   "cell_type": "code",
   "execution_count": 32,
   "metadata": {
    "collapsed": false
   },
   "outputs": [
    {
     "data": {
      "text/plain": [
       "'h'"
      ]
     },
     "execution_count": 32,
     "metadata": {},
     "output_type": "execute_result"
    }
   ],
   "source": [
    "a[0]"
   ]
  },
  {
   "cell_type": "code",
   "execution_count": 33,
   "metadata": {
    "collapsed": false
   },
   "outputs": [
    {
     "data": {
      "text/plain": [
       "'l'"
      ]
     },
     "execution_count": 33,
     "metadata": {},
     "output_type": "execute_result"
    }
   ],
   "source": [
    "a[3:4]"
   ]
  },
  {
   "cell_type": "code",
   "execution_count": 34,
   "metadata": {
    "collapsed": true
   },
   "outputs": [],
   "source": [
    "a='Hello,world'"
   ]
  },
  {
   "cell_type": "code",
   "execution_count": 35,
   "metadata": {
    "collapsed": false
   },
   "outputs": [
    {
     "ename": "TypeError",
     "evalue": "'str' object does not support item assignment",
     "output_type": "error",
     "traceback": [
      "\u001b[0;31m---------------------------------------------------------------------------\u001b[0m",
      "\u001b[0;31mTypeError\u001b[0m                                 Traceback (most recent call last)",
      "\u001b[0;32m<ipython-input-35-2e9124073ebf>\u001b[0m in \u001b[0;36m<module>\u001b[0;34m()\u001b[0m\n\u001b[0;32m----> 1\u001b[0;31m \u001b[0ma\u001b[0m\u001b[0;34m[\u001b[0m\u001b[0;36m2\u001b[0m\u001b[0;34m]\u001b[0m\u001b[0;34m=\u001b[0m\u001b[0;34m'a'\u001b[0m\u001b[0;34m\u001b[0m\u001b[0m\n\u001b[0m",
      "\u001b[0;31mTypeError\u001b[0m: 'str' object does not support item assignment"
     ]
    }
   ],
   "source": [
    "a[2]='a'"
   ]
  },
  {
   "cell_type": "code",
   "execution_count": 36,
   "metadata": {
    "collapsed": false
   },
   "outputs": [
    {
     "data": {
      "text/plain": [
       "'Hello,world'"
      ]
     },
     "execution_count": 36,
     "metadata": {},
     "output_type": "execute_result"
    }
   ],
   "source": [
    "a.replace('1','z',1)"
   ]
  },
  {
   "cell_type": "code",
   "execution_count": 37,
   "metadata": {
    "collapsed": false
   },
   "outputs": [
    {
     "data": {
      "text/plain": [
       "'Hezlo,world'"
      ]
     },
     "execution_count": 37,
     "metadata": {},
     "output_type": "execute_result"
    }
   ],
   "source": [
    "a.replace('l','z',1)"
   ]
  },
  {
   "cell_type": "code",
   "execution_count": 38,
   "metadata": {
    "collapsed": true
   },
   "outputs": [],
   "source": [
    "tel={'emmanuelle':5752,'sebastian':5578}"
   ]
  },
  {
   "cell_type": "code",
   "execution_count": 39,
   "metadata": {
    "collapsed": false
   },
   "outputs": [
    {
     "data": {
      "text/plain": [
       "{'emmanuelle': 5752, 'sebastian': 5578}"
      ]
     },
     "execution_count": 39,
     "metadata": {},
     "output_type": "execute_result"
    }
   ],
   "source": [
    "tel"
   ]
  },
  {
   "cell_type": "code",
   "execution_count": 40,
   "metadata": {
    "collapsed": false
   },
   "outputs": [
    {
     "data": {
      "text/plain": [
       "dict"
      ]
     },
     "execution_count": 40,
     "metadata": {},
     "output_type": "execute_result"
    }
   ],
   "source": [
    "type(tel)"
   ]
  },
  {
   "cell_type": "code",
   "execution_count": 41,
   "metadata": {
    "collapsed": true
   },
   "outputs": [],
   "source": [
    "tel['francis']=5915"
   ]
  },
  {
   "cell_type": "code",
   "execution_count": 42,
   "metadata": {
    "collapsed": false
   },
   "outputs": [
    {
     "data": {
      "text/plain": [
       "{'emmanuelle': 5752, 'francis': 5915, 'sebastian': 5578}"
      ]
     },
     "execution_count": 42,
     "metadata": {},
     "output_type": "execute_result"
    }
   ],
   "source": [
    "tel"
   ]
  },
  {
   "cell_type": "code",
   "execution_count": 43,
   "metadata": {
    "collapsed": false
   },
   "outputs": [
    {
     "data": {
      "text/plain": [
       "5915"
      ]
     },
     "execution_count": 43,
     "metadata": {},
     "output_type": "execute_result"
    }
   ],
   "source": [
    "tel['francis']"
   ]
  },
  {
   "cell_type": "code",
   "execution_count": 44,
   "metadata": {
    "collapsed": false
   },
   "outputs": [
    {
     "data": {
      "text/plain": [
       "['sebastian', 'francis', 'emmanuelle']"
      ]
     },
     "execution_count": 44,
     "metadata": {},
     "output_type": "execute_result"
    }
   ],
   "source": [
    "tel.keys()"
   ]
  },
  {
   "cell_type": "code",
   "execution_count": 45,
   "metadata": {
    "collapsed": false
   },
   "outputs": [
    {
     "data": {
      "text/plain": [
       "[5578, 5915, 5752]"
      ]
     },
     "execution_count": 45,
     "metadata": {},
     "output_type": "execute_result"
    }
   ],
   "source": [
    "tel.values()"
   ]
  },
  {
   "cell_type": "code",
   "execution_count": 46,
   "metadata": {
    "collapsed": false
   },
   "outputs": [
    {
     "data": {
      "text/plain": [
       "True"
      ]
     },
     "execution_count": 46,
     "metadata": {},
     "output_type": "execute_result"
    }
   ],
   "source": [
    "'francis' in tel"
   ]
  },
  {
   "cell_type": "code",
   "execution_count": 47,
   "metadata": {
    "collapsed": true
   },
   "outputs": [],
   "source": [
    "t=(12345,54321,'hello')"
   ]
  },
  {
   "cell_type": "code",
   "execution_count": 48,
   "metadata": {
    "collapsed": false
   },
   "outputs": [
    {
     "data": {
      "text/plain": [
       "(12345, 54321, 'hello')"
      ]
     },
     "execution_count": 48,
     "metadata": {},
     "output_type": "execute_result"
    }
   ],
   "source": [
    "t"
   ]
  },
  {
   "cell_type": "code",
   "execution_count": 49,
   "metadata": {
    "collapsed": true
   },
   "outputs": [],
   "source": [
    "u=(0,2)"
   ]
  },
  {
   "cell_type": "code",
   "execution_count": 50,
   "metadata": {
    "collapsed": false
   },
   "outputs": [
    {
     "data": {
      "text/plain": [
       "(0, 2)"
      ]
     },
     "execution_count": 50,
     "metadata": {},
     "output_type": "execute_result"
    }
   ],
   "source": [
    "u"
   ]
  },
  {
   "cell_type": "code",
   "execution_count": 51,
   "metadata": {
    "collapsed": true
   },
   "outputs": [],
   "source": [
    "s=set(('a','b','c','a'))"
   ]
  },
  {
   "cell_type": "code",
   "execution_count": 52,
   "metadata": {
    "collapsed": false
   },
   "outputs": [
    {
     "data": {
      "text/plain": [
       "{'a', 'b', 'c'}"
      ]
     },
     "execution_count": 52,
     "metadata": {},
     "output_type": "execute_result"
    }
   ],
   "source": [
    "s"
   ]
  },
  {
   "cell_type": "code",
   "execution_count": 53,
   "metadata": {
    "collapsed": false
   },
   "outputs": [
    {
     "data": {
      "text/plain": [
       "{'c'}"
      ]
     },
     "execution_count": 53,
     "metadata": {},
     "output_type": "execute_result"
    }
   ],
   "source": [
    "s.difference(('a','b'))"
   ]
  },
  {
   "cell_type": "code",
   "execution_count": 54,
   "metadata": {
    "collapsed": true
   },
   "outputs": [],
   "source": [
    "a=[1,2,3]"
   ]
  },
  {
   "cell_type": "code",
   "execution_count": 55,
   "metadata": {
    "collapsed": false
   },
   "outputs": [
    {
     "data": {
      "text/plain": [
       "[1, 2, 3]"
      ]
     },
     "execution_count": 55,
     "metadata": {},
     "output_type": "execute_result"
    }
   ],
   "source": [
    "a"
   ]
  },
  {
   "cell_type": "code",
   "execution_count": 56,
   "metadata": {
    "collapsed": true
   },
   "outputs": [],
   "source": [
    "b=a"
   ]
  },
  {
   "cell_type": "code",
   "execution_count": 57,
   "metadata": {
    "collapsed": false
   },
   "outputs": [
    {
     "data": {
      "text/plain": [
       "[1, 2, 3]"
      ]
     },
     "execution_count": 57,
     "metadata": {},
     "output_type": "execute_result"
    }
   ],
   "source": [
    "a"
   ]
  },
  {
   "cell_type": "code",
   "execution_count": 58,
   "metadata": {
    "collapsed": false
   },
   "outputs": [
    {
     "data": {
      "text/plain": [
       "[1, 2, 3]"
      ]
     },
     "execution_count": 58,
     "metadata": {},
     "output_type": "execute_result"
    }
   ],
   "source": [
    "b"
   ]
  },
  {
   "cell_type": "code",
   "execution_count": 59,
   "metadata": {
    "collapsed": false
   },
   "outputs": [
    {
     "data": {
      "text/plain": [
       "True"
      ]
     },
     "execution_count": 59,
     "metadata": {},
     "output_type": "execute_result"
    }
   ],
   "source": [
    "a is b"
   ]
  },
  {
   "cell_type": "code",
   "execution_count": 60,
   "metadata": {
    "collapsed": true
   },
   "outputs": [],
   "source": [
    "b[1]='hi'"
   ]
  },
  {
   "cell_type": "code",
   "execution_count": 61,
   "metadata": {
    "collapsed": false
   },
   "outputs": [
    {
     "data": {
      "text/plain": [
       "[1, 'hi', 3]"
      ]
     },
     "execution_count": 61,
     "metadata": {},
     "output_type": "execute_result"
    }
   ],
   "source": [
    "a"
   ]
  },
  {
   "cell_type": "code",
   "execution_count": 62,
   "metadata": {
    "collapsed": false
   },
   "outputs": [
    {
     "data": {
      "text/plain": [
       "[1, 'hi', 3]"
      ]
     },
     "execution_count": 62,
     "metadata": {},
     "output_type": "execute_result"
    }
   ],
   "source": [
    "b"
   ]
  },
  {
   "cell_type": "code",
   "execution_count": 63,
   "metadata": {
    "collapsed": true
   },
   "outputs": [],
   "source": [
    "a=[1,2,3]"
   ]
  },
  {
   "cell_type": "code",
   "execution_count": 64,
   "metadata": {
    "collapsed": false
   },
   "outputs": [
    {
     "data": {
      "text/plain": [
       "[1, 2, 3]"
      ]
     },
     "execution_count": 64,
     "metadata": {},
     "output_type": "execute_result"
    }
   ],
   "source": [
    "a"
   ]
  },
  {
   "cell_type": "code",
   "execution_count": 65,
   "metadata": {
    "collapsed": true
   },
   "outputs": [],
   "source": [
    "a=['a','b','c']"
   ]
  },
  {
   "cell_type": "code",
   "execution_count": 66,
   "metadata": {
    "collapsed": false
   },
   "outputs": [
    {
     "data": {
      "text/plain": [
       "['a', 'b', 'c']"
      ]
     },
     "execution_count": 66,
     "metadata": {},
     "output_type": "execute_result"
    }
   ],
   "source": [
    "a"
   ]
  },
  {
   "cell_type": "code",
   "execution_count": 67,
   "metadata": {
    "collapsed": false
   },
   "outputs": [
    {
     "data": {
      "text/plain": [
       "4357970904"
      ]
     },
     "execution_count": 67,
     "metadata": {},
     "output_type": "execute_result"
    }
   ],
   "source": [
    "id(a)"
   ]
  },
  {
   "cell_type": "code",
   "execution_count": 68,
   "metadata": {
    "collapsed": true
   },
   "outputs": [],
   "source": [
    "a[:]=[1,2,3]"
   ]
  },
  {
   "cell_type": "code",
   "execution_count": 69,
   "metadata": {
    "collapsed": false
   },
   "outputs": [
    {
     "data": {
      "text/plain": [
       "[1, 2, 3]"
      ]
     },
     "execution_count": 69,
     "metadata": {},
     "output_type": "execute_result"
    }
   ],
   "source": [
    "a"
   ]
  },
  {
   "cell_type": "code",
   "execution_count": 70,
   "metadata": {
    "collapsed": false
   },
   "outputs": [
    {
     "data": {
      "text/plain": [
       "4357970904"
      ]
     },
     "execution_count": 70,
     "metadata": {},
     "output_type": "execute_result"
    }
   ],
   "source": [
    "id(a)"
   ]
  },
  {
   "cell_type": "code",
   "execution_count": 71,
   "metadata": {
    "collapsed": false
   },
   "outputs": [
    {
     "name": "stdout",
     "output_type": "stream",
     "text": [
      "obvious!\n"
     ]
    }
   ],
   "source": [
    "if 2**2==4:\n",
    "    print('obvious!')"
   ]
  },
  {
   "cell_type": "code",
   "execution_count": 72,
   "metadata": {
    "collapsed": true
   },
   "outputs": [],
   "source": [
    "a=10"
   ]
  },
  {
   "cell_type": "code",
   "execution_count": 73,
   "metadata": {
    "collapsed": false
   },
   "outputs": [
    {
     "name": "stdout",
     "output_type": "stream",
     "text": [
      "a lot\n"
     ]
    }
   ],
   "source": [
    "if a==1:\n",
    "    print(1)\n",
    "elif a==2:\n",
    "    print(2)\n",
    "else:\n",
    "    print('a lot')"
   ]
  },
  {
   "cell_type": "code",
   "execution_count": 74,
   "metadata": {
    "collapsed": false
   },
   "outputs": [
    {
     "name": "stdout",
     "output_type": "stream",
     "text": [
      "0\n",
      "1\n",
      "2\n",
      "3\n"
     ]
    }
   ],
   "source": [
    "for i in range(4):\n",
    "    print(i)"
   ]
  },
  {
   "cell_type": "code",
   "execution_count": 75,
   "metadata": {
    "collapsed": false
   },
   "outputs": [
    {
     "name": "stdout",
     "output_type": "stream",
     "text": [
      "Python is cool\n",
      "Python is powerful\n",
      "Python is readable\n"
     ]
    }
   ],
   "source": [
    "for word in ('cool','powerful','readable'):\n",
    "    print('Python is %s' %word)"
   ]
  },
  {
   "cell_type": "code",
   "execution_count": 76,
   "metadata": {
    "collapsed": true
   },
   "outputs": [],
   "source": [
    "z=1+1j"
   ]
  },
  {
   "cell_type": "code",
   "execution_count": 77,
   "metadata": {
    "collapsed": false
   },
   "outputs": [
    {
     "data": {
      "text/plain": [
       "(1+1j)"
      ]
     },
     "execution_count": 77,
     "metadata": {},
     "output_type": "execute_result"
    }
   ],
   "source": [
    "z"
   ]
  },
  {
   "cell_type": "code",
   "execution_count": 78,
   "metadata": {
    "collapsed": true
   },
   "outputs": [],
   "source": [
    "while abs(z)<100:\n",
    "    z=z**2+1"
   ]
  },
  {
   "cell_type": "code",
   "execution_count": 79,
   "metadata": {
    "collapsed": false
   },
   "outputs": [
    {
     "data": {
      "text/plain": [
       "(-134+352j)"
      ]
     },
     "execution_count": 79,
     "metadata": {},
     "output_type": "execute_result"
    }
   ],
   "source": [
    "z"
   ]
  },
  {
   "cell_type": "code",
   "execution_count": 80,
   "metadata": {
    "collapsed": false
   },
   "outputs": [
    {
     "data": {
      "text/plain": [
       "352.0"
      ]
     },
     "execution_count": 80,
     "metadata": {},
     "output_type": "execute_result"
    }
   ],
   "source": [
    "z.imag"
   ]
  },
  {
   "cell_type": "code",
   "execution_count": 81,
   "metadata": {
    "collapsed": true
   },
   "outputs": [],
   "source": [
    "while abs(z)<100:\n",
    "    if z.imag==0:\n",
    "        break\n",
    "    z=z**2+1"
   ]
  },
  {
   "cell_type": "code",
   "execution_count": 82,
   "metadata": {
    "collapsed": false
   },
   "outputs": [
    {
     "data": {
      "text/plain": [
       "(-134+352j)"
      ]
     },
     "execution_count": 82,
     "metadata": {},
     "output_type": "execute_result"
    }
   ],
   "source": [
    "z"
   ]
  },
  {
   "cell_type": "code",
   "execution_count": 83,
   "metadata": {
    "collapsed": true
   },
   "outputs": [],
   "source": [
    "a=[1,0,2,4]"
   ]
  },
  {
   "cell_type": "code",
   "execution_count": 84,
   "metadata": {
    "collapsed": false
   },
   "outputs": [
    {
     "name": "stdout",
     "output_type": "stream",
     "text": [
      "1.0\n",
      "0.5\n",
      "0.25\n"
     ]
    }
   ],
   "source": [
    "for element in a:\n",
    "    if element==0:\n",
    "        continue\n",
    "    print(1./element)"
   ]
  },
  {
   "cell_type": "code",
   "execution_count": 85,
   "metadata": {
    "collapsed": true
   },
   "outputs": [],
   "source": [
    "vowels='aeiouy'"
   ]
  },
  {
   "cell_type": "code",
   "execution_count": 86,
   "metadata": {
    "collapsed": false
   },
   "outputs": [
    {
     "name": "stdout",
     "output_type": "stream",
     "text": [
      "o\n",
      "e\n",
      "u\n"
     ]
    }
   ],
   "source": [
    "for i in 'powerful':\n",
    "    if i in vowels:\n",
    "        print(i)"
   ]
  },
  {
   "cell_type": "code",
   "execution_count": 87,
   "metadata": {
    "collapsed": true
   },
   "outputs": [],
   "source": [
    "message='Hello how are you?'"
   ]
  },
  {
   "cell_type": "code",
   "execution_count": 88,
   "metadata": {
    "collapsed": false
   },
   "outputs": [
    {
     "data": {
      "text/plain": [
       "['Hello', 'how', 'are', 'you?']"
      ]
     },
     "execution_count": 88,
     "metadata": {},
     "output_type": "execute_result"
    }
   ],
   "source": [
    "message.split()"
   ]
  },
  {
   "cell_type": "code",
   "execution_count": 89,
   "metadata": {
    "collapsed": false
   },
   "outputs": [
    {
     "name": "stdout",
     "output_type": "stream",
     "text": [
      "Hello\n",
      "how\n",
      "are\n",
      "you?\n"
     ]
    }
   ],
   "source": [
    "for word in message.split():\n",
    "    print(word)"
   ]
  },
  {
   "cell_type": "code",
   "execution_count": 90,
   "metadata": {
    "collapsed": true
   },
   "outputs": [],
   "source": [
    "words=('cool','powerful','readable')"
   ]
  },
  {
   "cell_type": "code",
   "execution_count": 91,
   "metadata": {
    "collapsed": false
   },
   "outputs": [
    {
     "name": "stdout",
     "output_type": "stream",
     "text": [
      "(0, 'cool')\n",
      "(1, 'powerful')\n",
      "(2, 'readable')\n"
     ]
    }
   ],
   "source": [
    "for i in range(0,len(words)):\n",
    "               print((i,words[i]))"
   ]
  },
  {
   "cell_type": "code",
   "execution_count": 92,
   "metadata": {
    "collapsed": false
   },
   "outputs": [
    {
     "name": "stdout",
     "output_type": "stream",
     "text": [
      "(0, 'cool')\n",
      "(1, 'powerful')\n",
      "(2, 'readable')\n"
     ]
    }
   ],
   "source": [
    "for index,item in enumerate(words):\n",
    "    print((index,item))"
   ]
  },
  {
   "cell_type": "code",
   "execution_count": 93,
   "metadata": {
    "collapsed": true
   },
   "outputs": [],
   "source": [
    "d={'a':1,'b':1.2,'c':1j}"
   ]
  },
  {
   "cell_type": "code",
   "execution_count": 94,
   "metadata": {
    "collapsed": false
   },
   "outputs": [
    {
     "data": {
      "text/plain": [
       "{'a': 1, 'b': 1.2, 'c': 1j}"
      ]
     },
     "execution_count": 94,
     "metadata": {},
     "output_type": "execute_result"
    }
   ],
   "source": [
    "d"
   ]
  },
  {
   "cell_type": "code",
   "execution_count": 95,
   "metadata": {
    "collapsed": false
   },
   "outputs": [
    {
     "name": "stdout",
     "output_type": "stream",
     "text": [
      "Key:a has value:1\n",
      "Key:b has value:1.2\n",
      "Key:c has value:1j\n"
     ]
    }
   ],
   "source": [
    "for key,val in sorted(d.items()):\n",
    "    print('Key:%s has value:%s'%(key,val))"
   ]
  },
  {
   "cell_type": "code",
   "execution_count": 96,
   "metadata": {
    "collapsed": false
   },
   "outputs": [
    {
     "data": {
      "text/plain": [
       "[0, 1, 4, 9]"
      ]
     },
     "execution_count": 96,
     "metadata": {},
     "output_type": "execute_result"
    }
   ],
   "source": [
    "[i**2 for i in range(4)]"
   ]
  },
  {
   "cell_type": "code",
   "execution_count": 97,
   "metadata": {
    "collapsed": true
   },
   "outputs": [],
   "source": [
    "def test():\n",
    "    print('in test function')"
   ]
  },
  {
   "cell_type": "code",
   "execution_count": 98,
   "metadata": {
    "collapsed": false
   },
   "outputs": [
    {
     "name": "stdout",
     "output_type": "stream",
     "text": [
      "in test function\n"
     ]
    }
   ],
   "source": [
    "test()"
   ]
  },
  {
   "cell_type": "code",
   "execution_count": 99,
   "metadata": {
    "collapsed": true
   },
   "outputs": [],
   "source": [
    "def disk_area(radius):\n",
    "    return 3.14*radius*radius"
   ]
  },
  {
   "cell_type": "code",
   "execution_count": 100,
   "metadata": {
    "collapsed": false
   },
   "outputs": [
    {
     "data": {
      "text/plain": [
       "7.0649999999999995"
      ]
     },
     "execution_count": 100,
     "metadata": {},
     "output_type": "execute_result"
    }
   ],
   "source": [
    "disk_area(1.5)"
   ]
  },
  {
   "cell_type": "code",
   "execution_count": 101,
   "metadata": {
    "collapsed": true
   },
   "outputs": [],
   "source": [
    "def double_it(x):\n",
    "    return x*2"
   ]
  },
  {
   "cell_type": "code",
   "execution_count": 102,
   "metadata": {
    "collapsed": false
   },
   "outputs": [
    {
     "data": {
      "text/plain": [
       "6"
      ]
     },
     "execution_count": 102,
     "metadata": {},
     "output_type": "execute_result"
    }
   ],
   "source": [
    "double_it(3)"
   ]
  },
  {
   "cell_type": "code",
   "execution_count": 103,
   "metadata": {
    "collapsed": true
   },
   "outputs": [],
   "source": [
    "def double_it(x=2):\n",
    "    return x*2"
   ]
  },
  {
   "cell_type": "code",
   "execution_count": 104,
   "metadata": {
    "collapsed": false
   },
   "outputs": [
    {
     "data": {
      "text/plain": [
       "4"
      ]
     },
     "execution_count": 104,
     "metadata": {},
     "output_type": "execute_result"
    }
   ],
   "source": [
    "double_it()"
   ]
  },
  {
   "cell_type": "code",
   "execution_count": 105,
   "metadata": {
    "collapsed": false
   },
   "outputs": [
    {
     "data": {
      "text/plain": [
       "6"
      ]
     },
     "execution_count": 105,
     "metadata": {},
     "output_type": "execute_result"
    }
   ],
   "source": [
    "double_it(3)"
   ]
  },
  {
   "cell_type": "code",
   "execution_count": 106,
   "metadata": {
    "collapsed": true
   },
   "outputs": [],
   "source": [
    "def add_to_dict(args={'a':1,'b':2}):\n",
    "    for i in args.keys():\n",
    "        args[i]+=1\n",
    "    print args"
   ]
  },
  {
   "cell_type": "code",
   "execution_count": 107,
   "metadata": {
    "collapsed": false
   },
   "outputs": [
    {
     "name": "stdout",
     "output_type": "stream",
     "text": [
      "{'a': 2, 'b': 3}\n"
     ]
    }
   ],
   "source": [
    "add_to_dict()"
   ]
  },
  {
   "cell_type": "code",
   "execution_count": 108,
   "metadata": {
    "collapsed": false
   },
   "outputs": [
    {
     "name": "stdout",
     "output_type": "stream",
     "text": [
      "{'a': 3, 'b': 4}\n"
     ]
    }
   ],
   "source": [
    "add_to_dict()"
   ]
  },
  {
   "cell_type": "code",
   "execution_count": 109,
   "metadata": {
    "collapsed": true
   },
   "outputs": [],
   "source": [
    "def try_to_modify(x,y,z):\n",
    "    x=23\n",
    "    y.append(42)\n",
    "    z=[99]\n",
    "    print(x)\n",
    "    print(y)\n",
    "    print(z)"
   ]
  },
  {
   "cell_type": "code",
   "execution_count": 110,
   "metadata": {
    "collapsed": true
   },
   "outputs": [],
   "source": [
    "a=77\n",
    "b=[99]\n",
    "c=[28]"
   ]
  },
  {
   "cell_type": "code",
   "execution_count": 111,
   "metadata": {
    "collapsed": false
   },
   "outputs": [
    {
     "data": {
      "text/plain": [
       "77"
      ]
     },
     "execution_count": 111,
     "metadata": {},
     "output_type": "execute_result"
    }
   ],
   "source": [
    "a"
   ]
  },
  {
   "cell_type": "code",
   "execution_count": 112,
   "metadata": {
    "collapsed": false
   },
   "outputs": [
    {
     "data": {
      "text/plain": [
       "[99]"
      ]
     },
     "execution_count": 112,
     "metadata": {},
     "output_type": "execute_result"
    }
   ],
   "source": [
    "b"
   ]
  },
  {
   "cell_type": "code",
   "execution_count": 113,
   "metadata": {
    "collapsed": false
   },
   "outputs": [
    {
     "name": "stdout",
     "output_type": "stream",
     "text": [
      "23\n",
      "[99, 42]\n",
      "[99]\n"
     ]
    }
   ],
   "source": [
    "try_to_modify(a,b,c)"
   ]
  },
  {
   "cell_type": "code",
   "execution_count": 114,
   "metadata": {
    "collapsed": false
   },
   "outputs": [
    {
     "name": "stdout",
     "output_type": "stream",
     "text": [
      "77\n"
     ]
    }
   ],
   "source": [
    "print(a)"
   ]
  },
  {
   "cell_type": "code",
   "execution_count": 115,
   "metadata": {
    "collapsed": false
   },
   "outputs": [
    {
     "data": {
      "text/plain": [
       "[99, 42]"
      ]
     },
     "execution_count": 115,
     "metadata": {},
     "output_type": "execute_result"
    }
   ],
   "source": [
    "b"
   ]
  },
  {
   "cell_type": "code",
   "execution_count": 116,
   "metadata": {
    "collapsed": false
   },
   "outputs": [
    {
     "data": {
      "text/plain": [
       "[28]"
      ]
     },
     "execution_count": 116,
     "metadata": {},
     "output_type": "execute_result"
    }
   ],
   "source": [
    "c"
   ]
  },
  {
   "cell_type": "code",
   "execution_count": 117,
   "metadata": {
    "collapsed": true
   },
   "outputs": [],
   "source": [
    "x=5"
   ]
  },
  {
   "cell_type": "code",
   "execution_count": 118,
   "metadata": {
    "collapsed": true
   },
   "outputs": [],
   "source": [
    "def addx(y):\n",
    "    return x+y"
   ]
  },
  {
   "cell_type": "code",
   "execution_count": 119,
   "metadata": {
    "collapsed": false
   },
   "outputs": [
    {
     "data": {
      "text/plain": [
       "15"
      ]
     },
     "execution_count": 119,
     "metadata": {},
     "output_type": "execute_result"
    }
   ],
   "source": [
    "addx(10)"
   ]
  },
  {
   "cell_type": "code",
   "execution_count": 120,
   "metadata": {
    "collapsed": true
   },
   "outputs": [],
   "source": [
    "def setx(y):\n",
    "    x=y\n",
    "    print('x is %d'%x)"
   ]
  },
  {
   "cell_type": "code",
   "execution_count": 121,
   "metadata": {
    "collapsed": false
   },
   "outputs": [
    {
     "name": "stdout",
     "output_type": "stream",
     "text": [
      "x is 10\n"
     ]
    }
   ],
   "source": [
    "setx(10)"
   ]
  },
  {
   "cell_type": "code",
   "execution_count": 122,
   "metadata": {
    "collapsed": false
   },
   "outputs": [
    {
     "data": {
      "text/plain": [
       "5"
      ]
     },
     "execution_count": 122,
     "metadata": {},
     "output_type": "execute_result"
    }
   ],
   "source": [
    "x"
   ]
  },
  {
   "cell_type": "code",
   "execution_count": 123,
   "metadata": {
    "collapsed": true
   },
   "outputs": [],
   "source": [
    "def setx(y):\n",
    "    global x\n",
    "    x=y\n",
    "    print('x is %d'%x)"
   ]
  },
  {
   "cell_type": "code",
   "execution_count": 124,
   "metadata": {
    "collapsed": false
   },
   "outputs": [
    {
     "name": "stdout",
     "output_type": "stream",
     "text": [
      "x is 10\n"
     ]
    }
   ],
   "source": [
    "setx(10)"
   ]
  },
  {
   "cell_type": "code",
   "execution_count": 125,
   "metadata": {
    "collapsed": false
   },
   "outputs": [
    {
     "data": {
      "text/plain": [
       "10"
      ]
     },
     "execution_count": 125,
     "metadata": {},
     "output_type": "execute_result"
    }
   ],
   "source": [
    "x"
   ]
  },
  {
   "cell_type": "code",
   "execution_count": 126,
   "metadata": {
    "collapsed": true
   },
   "outputs": [],
   "source": [
    "def variable_args(*args,**kwargs):\n",
    "    print 'args is',args\n",
    "    print 'kwargs is',kwargs"
   ]
  },
  {
   "cell_type": "code",
   "execution_count": 127,
   "metadata": {
    "collapsed": false
   },
   "outputs": [
    {
     "name": "stdout",
     "output_type": "stream",
     "text": [
      "args is ('one', 'two')\n",
      "kwargs is {'y': 2, 'x': 1, 'z': 3}\n"
     ]
    }
   ],
   "source": [
    "variable_args('one','two',x=1,y=2,z=3)"
   ]
  },
  {
   "cell_type": "code",
   "execution_count": 128,
   "metadata": {
    "collapsed": true
   },
   "outputs": [],
   "source": [
    "def funcname(params):\n",
    "    \"\"\"Concise one-line sentence describing the function\n",
    "    Extended summary which can contain multiple paragraphs\n",
    "    \"\"\"\n",
    "    #function body\n",
    "    pass"
   ]
  },
  {
   "cell_type": "code",
   "execution_count": 129,
   "metadata": {
    "collapsed": true
   },
   "outputs": [],
   "source": [
    "funcname?"
   ]
  },
  {
   "cell_type": "code",
   "execution_count": 130,
   "metadata": {
    "collapsed": true
   },
   "outputs": [],
   "source": [
    "va=variable_args"
   ]
  },
  {
   "cell_type": "code",
   "execution_count": 131,
   "metadata": {
    "collapsed": false
   },
   "outputs": [
    {
     "name": "stdout",
     "output_type": "stream",
     "text": [
      "args is ('three',)\n",
      "kwargs is {'y': 2, 'x': 1}\n"
     ]
    }
   ],
   "source": [
    "va('three',x=1,y=2)"
   ]
  },
  {
   "cell_type": "code",
   "execution_count": 136,
   "metadata": {
    "collapsed": true
   },
   "outputs": [],
   "source": [
    "def Fib(n):\n",
    "    if n==0 or n==1:\n",
    "        return 1\n",
    "    else:\n",
    "        return Fib(n-2)+Fib(n-1)"
   ]
  },
  {
   "cell_type": "code",
   "execution_count": 137,
   "metadata": {
    "collapsed": false
   },
   "outputs": [
    {
     "data": {
      "text/plain": [
       "1"
      ]
     },
     "execution_count": 137,
     "metadata": {},
     "output_type": "execute_result"
    }
   ],
   "source": [
    "Fib(1)"
   ]
  },
  {
   "cell_type": "code",
   "execution_count": 138,
   "metadata": {
    "collapsed": false
   },
   "outputs": [
    {
     "data": {
      "text/plain": [
       "1"
      ]
     },
     "execution_count": 138,
     "metadata": {},
     "output_type": "execute_result"
    }
   ],
   "source": [
    "Fib(0)"
   ]
  },
  {
   "cell_type": "code",
   "execution_count": 139,
   "metadata": {
    "collapsed": false
   },
   "outputs": [
    {
     "data": {
      "text/plain": [
       "2"
      ]
     },
     "execution_count": 139,
     "metadata": {},
     "output_type": "execute_result"
    }
   ],
   "source": [
    "Fib(2)"
   ]
  },
  {
   "cell_type": "code",
   "execution_count": 140,
   "metadata": {
    "collapsed": false
   },
   "outputs": [
    {
     "data": {
      "text/plain": [
       "3"
      ]
     },
     "execution_count": 140,
     "metadata": {},
     "output_type": "execute_result"
    }
   ],
   "source": [
    "Fib(3)"
   ]
  },
  {
   "cell_type": "code",
   "execution_count": 141,
   "metadata": {
    "collapsed": false
   },
   "outputs": [
    {
     "data": {
      "text/plain": [
       "5"
      ]
     },
     "execution_count": 141,
     "metadata": {},
     "output_type": "execute_result"
    }
   ],
   "source": [
    "Fib(4)"
   ]
  },
  {
   "cell_type": "code",
   "execution_count": 142,
   "metadata": {
    "collapsed": false
   },
   "outputs": [
    {
     "data": {
      "text/plain": [
       "8"
      ]
     },
     "execution_count": 142,
     "metadata": {},
     "output_type": "execute_result"
    }
   ],
   "source": [
    "Fib(5)"
   ]
  },
  {
   "cell_type": "code",
   "execution_count": 149,
   "metadata": {
    "collapsed": true
   },
   "outputs": [],
   "source": [
    "def quicksort(array):\n",
    "    less=[]\n",
    "    pivotList=[]\n",
    "    more=[]\n",
    "    if len(array)<2:\n",
    "        return array\n",
    "    else:\n",
    "        pivot=array[0]\n",
    "        for i in array:\n",
    "            if i<pivot:\n",
    "                less.append(i)\n",
    "            elif i>pivot:\n",
    "                more.append(i)\n",
    "            else:\n",
    "                pivotList.append(i)\n",
    "        less=quicksort(less)\n",
    "        more=quicksort(more)\n",
    "        return less+pivotList+more"
   ]
  },
  {
   "cell_type": "code",
   "execution_count": 150,
   "metadata": {
    "collapsed": false
   },
   "outputs": [
    {
     "data": {
      "text/plain": [
       "[1, 2, 3]"
      ]
     },
     "execution_count": 150,
     "metadata": {},
     "output_type": "execute_result"
    }
   ],
   "source": [
    "quicksort([1,2,3])"
   ]
  },
  {
   "cell_type": "code",
   "execution_count": 151,
   "metadata": {
    "collapsed": false
   },
   "outputs": [
    {
     "data": {
      "text/plain": [
       "[1, 2, 3]"
      ]
     },
     "execution_count": 151,
     "metadata": {},
     "output_type": "execute_result"
    }
   ],
   "source": [
    "quicksort([3,2,1])"
   ]
  },
  {
   "cell_type": "code",
   "execution_count": 152,
   "metadata": {
    "collapsed": false
   },
   "outputs": [
    {
     "data": {
      "text/plain": [
       "[1, 2, 3]"
      ]
     },
     "execution_count": 152,
     "metadata": {},
     "output_type": "execute_result"
    }
   ],
   "source": [
    "quicksort([1,3,2])"
   ]
  },
  {
   "cell_type": "code",
   "execution_count": 153,
   "metadata": {
    "collapsed": false
   },
   "outputs": [
    {
     "name": "stdout",
     "output_type": "stream",
     "text": [
      "Hello\n",
      "how\n",
      "are\n",
      "you\n"
     ]
    }
   ],
   "source": [
    "%run 1.py"
   ]
  },
  {
   "cell_type": "code",
   "execution_count": 154,
   "metadata": {
    "collapsed": false
   },
   "outputs": [
    {
     "data": {
      "text/plain": [
       "'Hello how are you'"
      ]
     },
     "execution_count": 154,
     "metadata": {},
     "output_type": "execute_result"
    }
   ],
   "source": [
    "message"
   ]
  },
  {
   "cell_type": "code",
   "execution_count": 155,
   "metadata": {
    "collapsed": true
   },
   "outputs": [],
   "source": [
    "import os"
   ]
  },
  {
   "cell_type": "code",
   "execution_count": 156,
   "metadata": {
    "collapsed": false
   },
   "outputs": [
    {
     "data": {
      "text/plain": [
       "<module 'os' from '//anaconda/lib/python2.7/os.pyc'>"
      ]
     },
     "execution_count": 156,
     "metadata": {},
     "output_type": "execute_result"
    }
   ],
   "source": [
    "os"
   ]
  },
  {
   "cell_type": "code",
   "execution_count": 157,
   "metadata": {
    "collapsed": false
   },
   "outputs": [
    {
     "data": {
      "text/plain": [
       "['.idea', '.ipynb_checkpoints', '1.ipynb', '1.py', '2.ipynb']"
      ]
     },
     "execution_count": 157,
     "metadata": {},
     "output_type": "execute_result"
    }
   ],
   "source": [
    "os.listdir('.')"
   ]
  },
  {
   "cell_type": "code",
   "execution_count": 158,
   "metadata": {
    "collapsed": true
   },
   "outputs": [],
   "source": [
    "from os import listdir"
   ]
  },
  {
   "cell_type": "code",
   "execution_count": 159,
   "metadata": {
    "collapsed": true
   },
   "outputs": [],
   "source": [
    "import numpy as np"
   ]
  },
  {
   "cell_type": "code",
   "execution_count": 160,
   "metadata": {
    "collapsed": false
   },
   "outputs": [
    {
     "data": {
      "text/plain": [
       "array([  0.,   2.,   4.,   6.,   8.,  10.])"
      ]
     },
     "execution_count": 160,
     "metadata": {},
     "output_type": "execute_result"
    }
   ],
   "source": [
    "np.linspace(0,10,6)"
   ]
  },
  {
   "cell_type": "code",
   "execution_count": 161,
   "metadata": {
    "collapsed": true
   },
   "outputs": [],
   "source": [
    "import scipy"
   ]
  },
  {
   "cell_type": "code",
   "execution_count": 162,
   "metadata": {
    "collapsed": true
   },
   "outputs": [],
   "source": [
    "from pylab import *"
   ]
  },
  {
   "cell_type": "code",
   "execution_count": 163,
   "metadata": {
    "collapsed": true
   },
   "outputs": [],
   "source": [
    "import scipy"
   ]
  },
  {
   "cell_type": "code",
   "execution_count": 164,
   "metadata": {
    "collapsed": false
   },
   "outputs": [
    {
     "ename": "SyntaxError",
     "evalue": "invalid syntax (<ipython-input-164-55eba78060b1>, line 1)",
     "output_type": "error",
     "traceback": [
      "\u001b[0;36m  File \u001b[0;32m\"<ipython-input-164-55eba78060b1>\"\u001b[0;36m, line \u001b[0;32m1\u001b[0m\n\u001b[0;31m    import 1\u001b[0m\n\u001b[0m           ^\u001b[0m\n\u001b[0;31mSyntaxError\u001b[0m\u001b[0;31m:\u001b[0m invalid syntax\n"
     ]
    }
   ],
   "source": [
    "import 1"
   ]
  },
  {
   "cell_type": "code",
   "execution_count": 166,
   "metadata": {
    "collapsed": false
   },
   "outputs": [
    {
     "name": "stdout",
     "output_type": "stream",
     "text": [
      "b\n",
      "a\n"
     ]
    }
   ],
   "source": [
    "import demo"
   ]
  },
  {
   "cell_type": "code",
   "execution_count": 167,
   "metadata": {
    "collapsed": true
   },
   "outputs": [],
   "source": [
    "demo.print_a()"
   ]
  },
  {
   "cell_type": "code",
   "execution_count": 168,
   "metadata": {
    "collapsed": true
   },
   "outputs": [],
   "source": [
    "demo.print_b()"
   ]
  },
  {
   "cell_type": "code",
   "execution_count": 169,
   "metadata": {
    "collapsed": false
   },
   "outputs": [
    {
     "data": {
      "text/plain": [
       "2"
      ]
     },
     "execution_count": 169,
     "metadata": {},
     "output_type": "execute_result"
    }
   ],
   "source": [
    "demo.c"
   ]
  },
  {
   "cell_type": "code",
   "execution_count": 170,
   "metadata": {
    "collapsed": false
   },
   "outputs": [
    {
     "data": {
      "text/plain": [
       "2"
      ]
     },
     "execution_count": 170,
     "metadata": {},
     "output_type": "execute_result"
    }
   ],
   "source": [
    "demo.d"
   ]
  },
  {
   "cell_type": "code",
   "execution_count": 171,
   "metadata": {
    "collapsed": true
   },
   "outputs": [],
   "source": [
    "demo?"
   ]
  },
  {
   "cell_type": "code",
   "execution_count": 172,
   "metadata": {
    "collapsed": false
   },
   "outputs": [
    {
     "data": {
      "text/plain": [
       "<function numpy.lib.utils.who>"
      ]
     },
     "execution_count": 172,
     "metadata": {},
     "output_type": "execute_result"
    }
   ],
   "source": [
    "who"
   ]
  },
  {
   "cell_type": "code",
   "execution_count": 175,
   "metadata": {
    "collapsed": false
   },
   "outputs": [
    {
     "data": {
      "text/plain": [
       "['__builtins__',\n",
       " '__doc__',\n",
       " '__file__',\n",
       " '__name__',\n",
       " '__package__',\n",
       " 'c',\n",
       " 'd',\n",
       " 'print_a',\n",
       " 'print_b']"
      ]
     },
     "execution_count": 175,
     "metadata": {},
     "output_type": "execute_result"
    }
   ],
   "source": [
    "dir(demo)"
   ]
  },
  {
   "cell_type": "code",
   "execution_count": 176,
   "metadata": {
    "collapsed": false
   },
   "outputs": [
    {
     "data": {
      "text/plain": [
       "2"
      ]
     },
     "execution_count": 176,
     "metadata": {},
     "output_type": "execute_result"
    }
   ],
   "source": [
    "demo.c"
   ]
  },
  {
   "cell_type": "code",
   "execution_count": 177,
   "metadata": {
    "collapsed": true
   },
   "outputs": [],
   "source": [
    "from demo import print_a,print_b"
   ]
  },
  {
   "cell_type": "code",
   "execution_count": 178,
   "metadata": {
    "collapsed": false
   },
   "outputs": [
    {
     "name": "stdout",
     "output_type": "stream",
     "text": [
      "Variable                     Type                          Data/Info\n",
      "--------------------------------------------------------------------\n",
      "ALLOW_THREADS                int                           1\n",
      "Annotation                   type                          <class 'matplotlib.text.Annotation'>\n",
      "Arrow                        type                          <class 'matplotlib.patches.Arrow'>\n",
      "Artist                       type                          <class 'matplotlib.artist.Artist'>\n",
      "AutoLocator                  type                          <class 'matplotlib.ticker.AutoLocator'>\n",
      "Axes                         type                          <class 'matplotlib.axes._axes.Axes'>\n",
      "BUFSIZE                      int                           8192\n",
      "Button                       type                          <class 'matplotlib.widgets.Button'>\n",
      "CLIP                         int                           0\n",
      "Circle                       type                          <class 'matplotlib.patches.Circle'>\n",
      "ComplexWarning               type                          <class 'numpy.core.numeric.ComplexWarning'>\n",
      "DAILY                        int                           3\n",
      "DataSource                   type                          <class 'numpy.lib._datasource.DataSource'>\n",
      "DateFormatter                type                          <class 'matplotlib.dates.DateFormatter'>\n",
      "DateLocator                  type                          <class 'matplotlib.dates.DateLocator'>\n",
      "DayLocator                   type                          <class 'matplotlib.dates.DayLocator'>\n",
      "ERR_CALL                     int                           3\n",
      "ERR_DEFAULT                  int                           521\n",
      "ERR_IGNORE                   int                           0\n",
      "ERR_LOG                      int                           5\n",
      "ERR_PRINT                    int                           4\n",
      "ERR_RAISE                    int                           2\n",
      "ERR_WARN                     int                           1\n",
      "FLOATING_POINT_SUPPORT       int                           1\n",
      "FPE_DIVIDEBYZERO             int                           1\n",
      "FPE_INVALID                  int                           8\n",
      "FPE_OVERFLOW                 int                           2\n",
      "FPE_UNDERFLOW                int                           4\n",
      "FR                           weekday                       FR\n",
      "False_                       bool_                         False\n",
      "Fib                          function                      <function Fib at 0x103119e60>\n",
      "Figure                       type                          <class 'matplotlib.figure.Figure'>\n",
      "FigureCanvasBase             type                          <class 'matplotlib.backen<...>_bases.FigureCanvasBase'>\n",
      "FixedFormatter               type                          <class 'matplotlib.ticker.FixedFormatter'>\n",
      "FixedLocator                 type                          <class 'matplotlib.ticker.FixedLocator'>\n",
      "FormatStrFormatter           type                          <class 'matplotlib.ticker.FormatStrFormatter'>\n",
      "Formatter                    type                          <class 'matplotlib.ticker.Formatter'>\n",
      "FuncFormatter                type                          <class 'matplotlib.ticker.FuncFormatter'>\n",
      "GridSpec                     type                          <class 'matplotlib.gridspec.GridSpec'>\n",
      "HOURLY                       int                           4\n",
      "HourLocator                  type                          <class 'matplotlib.dates.HourLocator'>\n",
      "IndexDateFormatter           type                          <class 'matplotlib.dates.IndexDateFormatter'>\n",
      "IndexLocator                 type                          <class 'matplotlib.ticker.IndexLocator'>\n",
      "Inf                          float                         inf\n",
      "Infinity                     float                         inf\n",
      "L                            list                          n=7\n",
      "LinAlgError                  type                          <class 'numpy.linalg.linalg.LinAlgError'>\n",
      "Line2D                       type                          <class 'matplotlib.lines.Line2D'>\n",
      "LinearLocator                type                          <class 'matplotlib.ticker.LinearLocator'>\n",
      "Locator                      type                          <class 'matplotlib.ticker.Locator'>\n",
      "LogFormatter                 type                          <class 'matplotlib.ticker.LogFormatter'>\n",
      "LogFormatterExponent         type                          <class 'matplotlib.ticker.LogFormatterExponent'>\n",
      "LogFormatterMathtext         type                          <class 'matplotlib.ticker.LogFormatterMathtext'>\n",
      "LogLocator                   type                          <class 'matplotlib.ticker.LogLocator'>\n",
      "MAXDIMS                      int                           32\n",
      "MAY_SHARE_BOUNDS             int                           0\n",
      "MAY_SHARE_EXACT              int                           -1\n",
      "MINUTELY                     int                           5\n",
      "MO                           weekday                       MO\n",
      "MONTHLY                      int                           1\n",
      "MachAr                       type                          <class 'numpy.core.machar.MachAr'>\n",
      "MaxNLocator                  type                          <class 'matplotlib.ticker.MaxNLocator'>\n",
      "MinuteLocator                type                          <class 'matplotlib.dates.MinuteLocator'>\n",
      "ModuleDeprecationWarning     type                          <class 'numpy._globals.ModuleDeprecationWarning'>\n",
      "MonthLocator                 type                          <class 'matplotlib.dates.MonthLocator'>\n",
      "MultipleLocator              type                          <class 'matplotlib.ticker.MultipleLocator'>\n",
      "NAN                          float                         nan\n",
      "NINF                         float                         -inf\n",
      "NZERO                        float                         -0.0\n",
      "NaN                          float                         nan\n",
      "Normalize                    type                          <class 'matplotlib.colors.Normalize'>\n",
      "NullFormatter                type                          <class 'matplotlib.ticker.NullFormatter'>\n",
      "NullLocator                  type                          <class 'matplotlib.ticker.NullLocator'>\n",
      "PINF                         float                         inf\n",
      "PZERO                        float                         0.0\n",
      "PackageLoader                type                          <class 'numpy._import_tools.PackageLoader'>\n",
      "PolarAxes                    type                          <class 'matplotlib.projections.polar.PolarAxes'>\n",
      "Polygon                      type                          <class 'matplotlib.patches.Polygon'>\n",
      "RAISE                        int                           2\n",
      "RRuleLocator                 type                          <class 'matplotlib.dates.RRuleLocator'>\n",
      "RankWarning                  type                          <class 'numpy.lib.polynomial.RankWarning'>\n",
      "Rectangle                    type                          <class 'matplotlib.patches.Rectangle'>\n",
      "SA                           weekday                       SA\n",
      "SECONDLY                     int                           6\n",
      "SHIFT_DIVIDEBYZERO           int                           0\n",
      "SHIFT_INVALID                int                           9\n",
      "SHIFT_OVERFLOW               int                           3\n",
      "SHIFT_UNDERFLOW              int                           6\n",
      "SU                           weekday                       SU\n",
      "ScalarFormatter              type                          <class 'matplotlib.ticker.ScalarFormatter'>\n",
      "ScalarType                   tuple                         n=32\n",
      "SecondLocator                type                          <class 'matplotlib.dates.SecondLocator'>\n",
      "Slider                       type                          <class 'matplotlib.widgets.Slider'>\n",
      "Subplot                      type                          <class 'matplotlib.axes._subplots.AxesSubplot'>\n",
      "SubplotTool                  type                          <class 'matplotlib.widgets.SubplotTool'>\n",
      "TH                           weekday                       TH\n",
      "TU                           weekday                       TU\n",
      "Text                         type                          <class 'matplotlib.text.Text'>\n",
      "TickHelper                   type                          <class 'matplotlib.ticker.TickHelper'>\n",
      "TooHardError                 type                          <class 'numpy.core._internal.TooHardError'>\n",
      "True_                        bool_                         True\n",
      "UFUNC_BUFSIZE_DEFAULT        int                           8192\n",
      "UFUNC_PYVALS_NAME            str                           UFUNC_PYVALS\n",
      "VisibleDeprecationWarning    type                          <class 'numpy._globals.Vi<...>sibleDeprecationWarning'>\n",
      "WE                           weekday                       WE\n",
      "WEEKLY                       int                           2\n",
      "WRAP                         int                           1\n",
      "WeekdayLocator               type                          <class 'matplotlib.dates.WeekdayLocator'>\n",
      "Widget                       type                          <class 'matplotlib.widgets.Widget'>\n",
      "YEARLY                       int                           0\n",
      "YearLocator                  type                          <class 'matplotlib.dates.YearLocator'>\n",
      "a                            int                           77\n",
      "absolute                     ufunc                         <ufunc 'absolute'>\n",
      "absolute_import              __future__._Feature           _Feature((2, 5, 0, 'alpha<...>0, 0, 'alpha', 0), 16384)\n",
      "acorr                        function                      <function acorr at 0x10568b410>\n",
      "add                          ufunc                         <ufunc 'add'>\n",
      "add_docstring                builtin_function_or_method    <built-in function add_docstring>\n",
      "add_newdoc                   function                      <function add_newdoc at 0x10433ec08>\n",
      "add_newdoc_ufunc             builtin_function_or_method    <built-in function _add_newdoc_ufunc>\n",
      "add_newdocs                  module                        <module 'numpy.add_newdoc<...>s/numpy/add_newdocs.pyc'>\n",
      "add_to_dict                  function                      <function add_to_dict at 0x103cae488>\n",
      "addx                         function                      <function addx at 0x103cae9b0>\n",
      "alen                         function                      <function alen at 0x103d78050>\n",
      "all                          function                      <function all at 0x103d76cf8>\n",
      "allclose                     function                      <function allclose at 0x103d7b848>\n",
      "alltrue                      function                      <function alltrue at 0x103d76c08>\n",
      "alterdot                     function                      <function alterdot at 0x103d1ff50>\n",
      "amap                         function                      <function amap at 0x104d20cf8>\n",
      "amax                         function                      <function amax at 0x103d76ed8>\n",
      "amin                         function                      <function amin at 0x103d76f50>\n",
      "angle                        function                      <function angle at 0x10433dc80>\n",
      "angle_spectrum               function                      <function angle_spectrum at 0x10568b488>\n",
      "annotate                     function                      <function annotate at 0x10568d1b8>\n",
      "any                          function                      <function any at 0x103d76c80>\n",
      "append                       function                      <function append at 0x10433ede8>\n",
      "apply_along_axis             function                      <function apply_along_axis at 0x1043531b8>\n",
      "apply_over_axes              function                      <function apply_over_axes at 0x104353230>\n",
      "arange                       builtin_function_or_method    <built-in function arange>\n",
      "arccos                       ufunc                         <ufunc 'arccos'>\n",
      "arccosh                      ufunc                         <ufunc 'arccosh'>\n",
      "arcsin                       ufunc                         <ufunc 'arcsin'>\n",
      "arcsinh                      ufunc                         <ufunc 'arcsinh'>\n",
      "arctan                       ufunc                         <ufunc 'arctan'>\n",
      "arctan2                      ufunc                         <ufunc 'arctan2'>\n",
      "arctanh                      ufunc                         <ufunc 'arctanh'>\n",
      "argmax                       function                      <function argmax at 0x103d76500>\n",
      "argmin                       function                      <function argmin at 0x103d76578>\n",
      "argpartition                 function                      <function argpartition at 0x103d76398>\n",
      "argsort                      function                      <function argsort at 0x103d76488>\n",
      "argwhere                     function                      <function argwhere at 0x103d1fc80>\n",
      "around                       function                      <function around at 0x103d78320>\n",
      "array                        builtin_function_or_method    <built-in function array>\n",
      "array2string                 function                      <function array2string at 0x103d789b0>\n",
      "array_equal                  function                      <function array_equal at 0x103d7b938>\n",
      "array_equiv                  function                      <function array_equiv at 0x103d7b9b0>\n",
      "array_repr                   function                      <function array_repr at 0x103d78cf8>\n",
      "array_split                  function                      <function array_split at 0x104353488>\n",
      "array_str                    function                      <function array_str at 0x103d7b398>\n",
      "arrow                        function                      <function arrow at 0x10568b500>\n",
      "asanyarray                   function                      <function asanyarray at 0x103d1fa28>\n",
      "asarray                      function                      <function asarray at 0x103d1f9b0>\n",
      "asarray_chkfinite            function                      <function asarray_chkfinite at 0x10433d938>\n",
      "ascontiguousarray            function                      <function ascontiguousarray at 0x103d1faa0>\n",
      "asfarray                     function                      <function asfarray at 0x10431fb90>\n",
      "asfortranarray               function                      <function asfortranarray at 0x103d1fb18>\n",
      "asmatrix                     function                      <function asmatrix at 0x104347140>\n",
      "asscalar                     function                      <function asscalar at 0x1043230c8>\n",
      "atleast_1d                   function                      <function atleast_1d at 0x103d97b18>\n",
      "atleast_2d                   function                      <function atleast_2d at 0x103da1050>\n",
      "atleast_3d                   function                      <function atleast_3d at 0x103da10c8>\n",
      "autoscale                    function                      <function autoscale at 0x10568d410>\n",
      "autumn                       function                      <function autumn at 0x10568b398>\n",
      "average                      function                      <function average at 0x10433d8c0>\n",
      "axes                         function                      <function axes at 0x105688e60>\n",
      "axhline                      function                      <function axhline at 0x10568b578>\n",
      "axhspan                      function                      <function axhspan at 0x10568b5f0>\n",
      "axis                         function                      <function axis at 0x10568a578>\n",
      "axvline                      function                      <function axvline at 0x10568b668>\n",
      "axvspan                      function                      <function axvspan at 0x10568b6e0>\n",
      "b                            list                          n=2\n",
      "bar                          function                      <function bar at 0x10568b758>\n",
      "barbs                        function                      <function barbs at 0x10568ce60>\n",
      "barh                         function                      <function barh at 0x10568b7d0>\n",
      "bartlett                     function                      <function bartlett at 0x10433e488>\n",
      "base_repr                    function                      <function base_repr at 0x103d7b668>\n",
      "bench                        instancemethod                <bound method NoseTester.<...>r object at 0x104371210>>\n",
      "beta                         builtin_function_or_method    <built-in method beta of <...>te object at 0x1043f5730>\n",
      "binary_repr                  function                      <function binary_repr at 0x103d7b5f0>\n",
      "bincount                     builtin_function_or_method    <built-in function bincount>\n",
      "binomial                     builtin_function_or_method    <built-in method binomial<...>te object at 0x1043f5730>\n",
      "bitwise_and                  ufunc                         <ufunc 'bitwise_and'>\n",
      "bitwise_not                  ufunc                         <ufunc 'invert'>\n",
      "bitwise_or                   ufunc                         <ufunc 'bitwise_or'>\n",
      "bitwise_xor                  ufunc                         <ufunc 'bitwise_xor'>\n",
      "bivariate_normal             function                      <function bivariate_normal at 0x104d208c0>\n",
      "blackman                     function                      <function blackman at 0x10433e410>\n",
      "bmat                         function                      <function bmat at 0x104349320>\n",
      "bone                         function                      <function bone at 0x10568d488>\n",
      "bool8                        type                          <type 'numpy.bool_'>\n",
      "bool_                        type                          <type 'numpy.bool_'>\n",
      "box                          function                      <function box at 0x10568a488>\n",
      "boxplot                      function                      <function boxplot at 0x10568b8c0>\n",
      "broadcast                    type                          <type 'numpy.broadcast'>\n",
      "broadcast_arrays             function                      <function broadcast_arrays at 0x1043496e0>\n",
      "broadcast_to                 function                      <function broadcast_to at 0x1043495f0>\n",
      "broken_barh                  function                      <function broken_barh at 0x10568b848>\n",
      "busday_count                 builtin_function_or_method    <built-in function busday_count>\n",
      "busday_offset                builtin_function_or_method    <built-in function busday_offset>\n",
      "busdaycalendar               type                          <type 'numpy.busdaycalendar'>\n",
      "byte                         type                          <type 'numpy.int8'>\n",
      "byte_bounds                  function                      <function byte_bounds at 0x10431b398>\n",
      "bytes                        type                          <type 'str'>\n",
      "bytes_                       type                          <type 'numpy.string_'>\n",
      "c                            list                          n=1\n",
      "c_                           CClass                        <numpy.lib.index_tricks.C<...>ss object at 0x104345a50>\n",
      "can_cast                     builtin_function_or_method    <built-in function can_cast>\n",
      "cast                         _typedict                     {<type 'numpy.bool_'>: <f<...><lambda> at 0x103d096e0>}\n",
      "cbook                        module                        <module 'matplotlib.cbook<...>es/matplotlib/cbook.pyc'>\n",
      "cbrt                         ufunc                         <ufunc 'cbrt'>\n",
      "cdouble                      type                          <type 'numpy.complex128'>\n",
      "ceil                         ufunc                         <ufunc 'ceil'>\n",
      "center_matrix                function                      <function center_matrix at 0x104d207d0>\n",
      "cfloat                       type                          <type 'numpy.complex128'>\n",
      "char                         module                        <module 'numpy.core.defch<...>y/core/defchararray.pyc'>\n",
      "character                    type                          <type 'numpy.character'>\n",
      "chararray                    type                          <class 'numpy.core.defchararray.chararray'>\n",
      "chisquare                    builtin_function_or_method    <built-in method chisquar<...>te object at 0x1043f5730>\n",
      "choice                       builtin_function_or_method    <built-in method choice o<...>te object at 0x1043f5730>\n",
      "cholesky                     function                      <function cholesky at 0x104370050>\n",
      "choose                       function                      <function choose at 0x103d760c8>\n",
      "cla                          function                      <function cla at 0x10568ced8>\n",
      "clabel                       function                      <function clabel at 0x10568b9b0>\n",
      "clf                          function                      <function clf at 0x1056888c0>\n",
      "clim                         function                      <function clim at 0x10568ae60>\n",
      "clip                         function                      <function clip at 0x103d76a28>\n",
      "clongdouble                  type                          <type 'numpy.complex256'>\n",
      "clongfloat                   type                          <type 'numpy.complex256'>\n",
      "close                        function                      <function close at 0x105688758>\n",
      "cm                           module                        <module 'matplotlib.cm' f<...>kages/matplotlib/cm.pyc'>\n",
      "cohere                       function                      <function cohere at 0x10568b938>\n",
      "colorbar                     function                      <function colorbar at 0x10568ade8>\n",
      "colormaps                    function                      <function colormaps at 0x10568acf8>\n",
      "colors                       function                      <function colors at 0x10568ac80>\n",
      "column_stack                 function                      <function column_stack at 0x104353320>\n",
      "common_type                  function                      <function common_type at 0x1043231b8>\n",
      "compare_chararrays           builtin_function_or_method    <built-in function compare_chararrays>\n",
      "complex128                   type                          <type 'numpy.complex128'>\n",
      "complex256                   type                          <type 'numpy.complex256'>\n",
      "complex64                    type                          <type 'numpy.complex64'>\n",
      "complex_                     type                          <type 'numpy.complex128'>\n",
      "complexfloating              type                          <type 'numpy.complexfloating'>\n",
      "compress                     function                      <function compress at 0x103d769b0>\n",
      "concatenate                  builtin_function_or_method    <built-in function concatenate>\n",
      "cond                         function                      <function cond at 0x104370410>\n",
      "conj                         ufunc                         <ufunc 'conjugate'>\n",
      "conjugate                    ufunc                         <ufunc 'conjugate'>\n",
      "connect                      function                      <function connect at 0x1056887d0>\n",
      "contour                      function                      <function contour at 0x10568ba28>\n",
      "contourf                     function                      <function contourf at 0x10568baa0>\n",
      "convolve                     function                      <function convolve at 0x103d1fe60>\n",
      "cool                         function                      <function cool at 0x10568d500>\n",
      "copper                       function                      <function copper at 0x10568d578>\n",
      "copy                         function                      <function copy at 0x10433daa0>\n",
      "copysign                     ufunc                         <ufunc 'copysign'>\n",
      "copyto                       builtin_function_or_method    <built-in function copyto>\n",
      "corrcoef                     function                      <function corrcoef at 0x10433e398>\n",
      "correlate                    function                      <function correlate at 0x103d1fde8>\n",
      "cos                          ufunc                         <ufunc 'cos'>\n",
      "cosh                         ufunc                         <ufunc 'cosh'>\n",
      "count_nonzero                builtin_function_or_method    <built-in function count_nonzero>\n",
      "cov                          function                      <function cov at 0x10433e140>\n",
      "cross                        function                      <function cross at 0x103d67398>\n",
      "csd                          function                      <function csd at 0x10568bb18>\n",
      "csingle                      type                          <type 'numpy.complex64'>\n",
      "csv2rec                      function                      <function csv2rec at 0x104d21758>\n",
      "ctypeslib                    module                        <module 'numpy.ctypeslib'<...>ges/numpy/ctypeslib.pyc'>\n",
      "cumprod                      function                      <function cumprod at 0x103d78140>\n",
      "cumproduct                   function                      <function cumproduct at 0x103d76de8>\n",
      "cumsum                       function                      <function cumsum at 0x103d76d70>\n",
      "cycler                       function                      <function cycler at 0x104a619b0>\n",
      "d                            dict                          n=3\n",
      "date2num                     function                      <function date2num at 0x104bdac08>\n",
      "datestr2num                  function                      <function datestr2num at 0x104bda9b0>\n",
      "datetime                     module                        <module 'datetime' from '<...>lib-dynload/datetime.so'>\n",
      "datetime64                   type                          <type 'numpy.datetime64'>\n",
      "datetime_as_string           builtin_function_or_method    <built-in function datetime_as_string>\n",
      "datetime_data                builtin_function_or_method    <built-in function datetime_data>\n",
      "dedent                       function                      <function dedent at 0x1045e32a8>\n",
      "deg2rad                      ufunc                         <ufunc 'deg2rad'>\n",
      "degrees                      ufunc                         <ufunc 'degrees'>\n",
      "delaxes                      function                      <function delaxes at 0x105688ed8>\n",
      "delete                       function                      <function delete at 0x10433ecf8>\n",
      "demean                       function                      <function demean at 0x104d1c848>\n",
      "demo                         module                        <module 'demo' from 'demo.py'>\n",
      "deprecate                    function                      <function deprecate at 0x10431b1b8>\n",
      "deprecate_with_doc           function                      <function <lambda> at 0x10431b320>\n",
      "det                          function                      <function det at 0x1043705f0>\n",
      "detrend                      function                      <function detrend at 0x104d1c7d0>\n",
      "detrend_linear               function                      <function detrend_linear at 0x104d1c9b0>\n",
      "detrend_mean                 function                      <function detrend_mean at 0x104d1c8c0>\n",
      "detrend_none                 function                      <function detrend_none at 0x104d1c938>\n",
      "diag                         function                      <function diag at 0x104323de8>\n",
      "diag_indices                 function                      <function diag_indices at 0x10434e2a8>\n",
      "diag_indices_from            function                      <function diag_indices_from at 0x10434e320>\n",
      "diagflat                     function                      <function diagflat at 0x104323e60>\n",
      "diagonal                     function                      <function diagonal at 0x103d76758>\n",
      "diff                         function                      <function diff at 0x10433db90>\n",
      "digitize                     builtin_function_or_method    <built-in function digitize>\n",
      "dirichlet                    builtin_function_or_method    <built-in method dirichle<...>te object at 0x1043f5730>\n",
      "disconnect                   function                      <function disconnect at 0x105688848>\n",
      "disk_area                    function                      <function disk_area at 0x103cae8c0>\n",
      "disp                         function                      <function disp at 0x10433e0c8>\n",
      "dist                         function                      <function dist at 0x104d20a28>\n",
      "dist_point_to_segment        function                      <function dist_point_to_segment at 0x104d20aa0>\n",
      "distances_along_curve        function                      <function distances_along_curve at 0x104d24d70>\n",
      "divide                       ufunc                         <ufunc 'divide'>\n",
      "division                     __future__._Feature           _Feature((2, 2, 0, 'alpha<...> 0, 0, 'alpha', 0), 8192)\n",
      "docstring                    module                        <module 'matplotlib.docst<...>atplotlib/docstring.pyc'>\n",
      "dot                          builtin_function_or_method    <built-in function dot>\n",
      "double                       type                          <type 'numpy.float64'>\n",
      "double_it                    function                      <function double_it at 0x103cae668>\n",
      "drange                       function                      <function drange at 0x104bdade8>\n",
      "draw                         function                      <function draw at 0x105688938>\n",
      "draw_all                     instancemethod                <bound method type.draw_a<...>lib._pylab_helpers.Gcf'>>\n",
      "draw_if_interactive          function                      <function do_nothing at 0x105687b90>\n",
      "dsplit                       function                      <function dsplit at 0x104353668>\n",
      "dstack                       function                      <function dstack at 0x104353398>\n",
      "dtype                        type                          <type 'numpy.dtype'>\n",
      "e                            float                         2.71828182846\n",
      "ediff1d                      function                      <function ediff1d at 0x104374c08>\n",
      "eig                          function                      <function eig at 0x1043702a8>\n",
      "eigh                         function                      <function eigh at 0x104370320>\n",
      "eigvals                      function                      <function eigvals at 0x104370140>\n",
      "eigvalsh                     function                      <function eigvalsh at 0x1043701b8>\n",
      "einsum                       builtin_function_or_method    <built-in function einsum>\n",
      "element                      int                           4\n",
      "emath                        module                        <module 'numpy.lib.scimat<...>s/numpy/lib/scimath.pyc'>\n",
      "empty                        builtin_function_or_method    <built-in function empty>\n",
      "empty_like                   builtin_function_or_method    <built-in function empty_like>\n",
      "entropy                      function                      <function entropy at 0x104d202a8>\n",
      "epoch2num                    function                      <function epoch2num at 0x104bdc9b0>\n",
      "equal                        ufunc                         <ufunc 'equal'>\n",
      "errorbar                     function                      <function errorbar at 0x10568bb90>\n",
      "errstate                     type                          <class 'numpy.core.numeric.errstate'>\n",
      "euler_gamma                  float                         0.577215664902\n",
      "eventplot                    function                      <function eventplot at 0x10568bc08>\n",
      "exception_to_str             function                      <function exception_to_str at 0x1045e3488>\n",
      "exp                          ufunc                         <ufunc 'exp'>\n",
      "exp2                         ufunc                         <ufunc 'exp2'>\n",
      "exp_safe                     function                      <function exp_safe at 0x104d20c80>\n",
      "expand_dims                  function                      <function expand_dims at 0x1043532a8>\n",
      "expm1                        ufunc                         <ufunc 'expm1'>\n",
      "exponential                  builtin_function_or_method    <built-in method exponent<...>te object at 0x1043f5730>\n",
      "extract                      function                      <function extract at 0x10433df50>\n",
      "eye                          function                      <function eye at 0x104323d70>\n",
      "f                            builtin_function_or_method    <built-in method f of mtr<...>te object at 0x1043f5730>\n",
      "fabs                         ufunc                         <ufunc 'fabs'>\n",
      "fastCopyAndTranspose         builtin_function_or_method    <built-in function _fastCopyAndTranspose>\n",
      "fft                          function                      <function fft at 0x103d45b90>\n",
      "fft2                         function                      <function fft2 at 0x103d5e2a8>\n",
      "fftfreq                      function                      <function fftfreq at 0x103d5e668>\n",
      "fftn                         function                      <function fftn at 0x103d5e1b8>\n",
      "fftpack                      module                        <module 'numpy.fft.fftpac<...>s/numpy/fft/fftpack.pyc'>\n",
      "fftpack_lite                 module                        <module 'numpy.fft.fftpac<...>mpy/fft/fftpack_lite.so'>\n",
      "fftshift                     function                      <function fftshift at 0x103d5e578>\n",
      "fftsurr                      function                      <function fftsurr at 0x104d20b90>\n",
      "figaspect                    function                      <function figaspect at 0x105677f50>\n",
      "figimage                     function                      <function figimage at 0x105688c80>\n",
      "figlegend                    function                      <function figlegend at 0x1056889b0>\n",
      "fignum_exists                function                      <function fignum_exists at 0x105688578>\n",
      "figtext                      function                      <function figtext at 0x105688b90>\n",
      "figure                       function                      <function figure at 0x105688410>\n",
      "fill                         function                      <function fill at 0x10568bcf8>\n",
      "fill_between                 function                      <function fill_between at 0x10568bd70>\n",
      "fill_betweenx                function                      <function fill_betweenx at 0x10568bde8>\n",
      "fill_diagonal                function                      <function fill_diagonal at 0x104349c80>\n",
      "find                         function                      <function find at 0x104d20398>\n",
      "find_common_type             function                      <function find_common_type at 0x103736b90>\n",
      "findobj                      function                      <function findobj at 0x105687d70>\n",
      "finfo                        type                          <class 'numpy.core.getlimits.finfo'>\n",
      "fix                          function                      <function fix at 0x10431f9b0>\n",
      "flag                         function                      <function flag at 0x10568d5f0>\n",
      "flatiter                     type                          <type 'numpy.flatiter'>\n",
      "flatnonzero                  function                      <function flatnonzero at 0x103d1fcf8>\n",
      "flatten                      function                      <function flatten at 0x1045e0500>\n",
      "flexible                     type                          <type 'numpy.flexible'>\n",
      "fliplr                       function                      <function fliplr at 0x104323c08>\n",
      "flipud                       function                      <function flipud at 0x104323c80>\n",
      "float128                     type                          <type 'numpy.float128'>\n",
      "float16                      type                          <type 'numpy.float16'>\n",
      "float32                      type                          <type 'numpy.float32'>\n",
      "float64                      type                          <type 'numpy.float64'>\n",
      "float_                       type                          <type 'numpy.float64'>\n",
      "floating                     type                          <type 'numpy.floating'>\n",
      "floor                        ufunc                         <ufunc 'floor'>\n",
      "floor_divide                 ufunc                         <ufunc 'floor_divide'>\n",
      "fmax                         ufunc                         <ufunc 'fmax'>\n",
      "fmin                         ufunc                         <ufunc 'fmin'>\n",
      "fmod                         ufunc                         <ufunc 'fmod'>\n",
      "format_parser                classobj                      numpy.core.records.format_parser\n",
      "frange                       function                      <function frange at 0x104d20f50>\n",
      "frexp                        ufunc                         <ufunc 'frexp'>\n",
      "frombuffer                   builtin_function_or_method    <built-in function frombuffer>\n",
      "fromfile                     builtin_function_or_method    <built-in function fromfile>\n",
      "fromfunction                 function                      <function fromfunction at 0x103d7b500>\n",
      "fromiter                     builtin_function_or_method    <built-in function fromiter>\n",
      "frompyfunc                   builtin_function_or_method    <built-in function frompyfunc>\n",
      "fromregex                    function                      <function fromregex at 0x1043939b0>\n",
      "fromstring                   builtin_function_or_method    <built-in function fromstring>\n",
      "full                         function                      <function full at 0x103d1f848>\n",
      "full_like                    function                      <function full_like at 0x103d1f8c0>\n",
      "funcname                     function                      <function funcname at 0x103caea28>\n",
      "fv                           function                      <function fv at 0x1043980c8>\n",
      "gamma                        builtin_function_or_method    <built-in method gamma of<...>te object at 0x1043f5730>\n",
      "gca                          function                      <function gca at 0x10568a050>\n",
      "gcf                          function                      <function gcf at 0x105688500>\n",
      "gci                          function                      <function gci at 0x1056880c8>\n",
      "generic                      type                          <type 'numpy.generic'>\n",
      "genfromtxt                   function                      <function genfromtxt at 0x104393a28>\n",
      "geometric                    builtin_function_or_method    <built-in method geometri<...>te object at 0x1043f5730>\n",
      "get                          function                      <function getp at 0x104c8e2a8>\n",
      "get_array_wrap               function                      <function get_array_wrap at 0x104353758>\n",
      "get_backend                  function                      <function get_backend at 0x104aba668>\n",
      "get_cmap                     function                      <function get_cmap at 0x104c66398>\n",
      "get_current_fig_manager      function                      <function get_current_fig_manager at 0x1056886e0>\n",
      "get_figlabels                function                      <function get_figlabels at 0x105688668>\n",
      "get_fignums                  function                      <function get_fignums at 0x1056885f0>\n",
      "get_include                  function                      <function get_include at 0x10431b0c8>\n",
      "get_plot_commands            function                      <function get_plot_commands at 0x10568ac08>\n",
      "get_printoptions             function                      <function get_printoptions at 0x103d786e0>\n",
      "get_scale_docs               function                      <function get_scale_docs at 0x105611b18>\n",
      "get_scale_names              function                      <function get_scale_names at 0x105611500>\n",
      "get_sparse_matrix            function                      <function get_sparse_matrix at 0x104d209b0>\n",
      "get_state                    builtin_function_or_method    <built-in method get_stat<...>te object at 0x1043f5730>\n",
      "get_xyz_where                function                      <function get_xyz_where at 0x104d20938>\n",
      "getbuffer                    builtin_function_or_method    <built-in function getbuffer>\n",
      "getbufsize                   function                      <function getbufsize at 0x103d7bb90>\n",
      "geterr                       function                      <function geterr at 0x103d7baa0>\n",
      "geterrcall                   function                      <function geterrcall at 0x103d7bc80>\n",
      "geterrobj                    builtin_function_or_method    <built-in function geterrobj>\n",
      "getp                         function                      <function getp at 0x104c8e2a8>\n",
      "ginput                       function                      <function ginput at 0x105688aa0>\n",
      "gradient                     function                      <function gradient at 0x10433db18>\n",
      "gray                         function                      <function gray at 0x10568d668>\n",
      "greater                      ufunc                         <ufunc 'greater'>\n",
      "greater_equal                ufunc                         <ufunc 'greater_equal'>\n",
      "grid                         function                      <function grid at 0x10568cf50>\n",
      "griddata                     function                      <function griddata at 0x104d245f0>\n",
      "gumbel                       builtin_function_or_method    <built-in method gumbel o<...>te object at 0x1043f5730>\n",
      "half                         type                          <type 'numpy.float16'>\n",
      "hamming                      function                      <function hamming at 0x10433e578>\n",
      "hanning                      function                      <function hanning at 0x10433e500>\n",
      "helper                       module                        <module 'numpy.fft.helper<...>es/numpy/fft/helper.pyc'>\n",
      "hexbin                       function                      <function hexbin at 0x10568be60>\n",
      "hfft                         function                      <function hfft at 0x1043a3f50>\n",
      "hist                         function                      <function hist at 0x10568bed8>\n",
      "hist2d                       function                      <function hist2d at 0x10568bf50>\n",
      "histogram                    function                      <function histogram at 0x10433d7d0>\n",
      "histogram2d                  function                      <function histogram2d at 0x10433d140>\n",
      "histogramdd                  function                      <function histogramdd at 0x10433d848>\n",
      "hlines                       function                      <function hlines at 0x10568c0c8>\n",
      "hold                         function                      <function hold at 0x105688cf8>\n",
      "hot                          function                      <function hot at 0x10568d6e0>\n",
      "hsplit                       function                      <function hsplit at 0x104353578>\n",
      "hstack                       function                      <function hstack at 0x103da11b8>\n",
      "hsv                          function                      <function hsv at 0x10568d758>\n",
      "hypergeometric               builtin_function_or_method    <built-in method hypergeo<...>te object at 0x1043f5730>\n",
      "hypot                        ufunc                         <ufunc 'hypot'>\n",
      "i                            int                           3\n",
      "i0                           function                      <function i0 at 0x10433e758>\n",
      "identity                     function                      <function identity at 0x103d7b7d0>\n",
      "ifft                         function                      <function ifft at 0x103d45c08>\n",
      "ifft2                        function                      <function ifft2 at 0x103d5e320>\n",
      "ifftn                        function                      <function ifftn at 0x103d5e230>\n",
      "ifftshift                    function                      <function ifftshift at 0x103d5e5f0>\n",
      "ihfft                        function                      <function ihfft at 0x103d5e050>\n",
      "iinfo                        type                          <class 'numpy.core.getlimits.iinfo'>\n",
      "imag                         function                      <function imag at 0x10431fc80>\n",
      "imread                       function                      <function imread at 0x10568b050>\n",
      "imsave                       function                      <function imsave at 0x10568b0c8>\n",
      "imshow                       function                      <function imshow at 0x10568c140>\n",
      "in1d                         function                      <function in1d at 0x104374de8>\n",
      "index                        int                           2\n",
      "index_exp                    IndexExpression               <numpy.lib.index_tricks.I<...>on object at 0x104345b10>\n",
      "indices                      function                      <function indices at 0x103d7b488>\n",
      "inexact                      type                          <type 'numpy.inexact'>\n",
      "inf                          float                         inf\n",
      "inferno                      function                      <function inferno at 0x10568db90>\n",
      "info                         module                        <module 'numpy.linalg.inf<...>s/numpy/linalg/info.pyc'>\n",
      "infty                        float                         inf\n",
      "inner                        builtin_function_or_method    <built-in function inner>\n",
      "insert                       function                      <function insert at 0x10433ed70>\n",
      "inside_poly                  function                      <function inside_poly at 0x104d247d0>\n",
      "install_repl_displayhook     function                      <function install_repl_di<...>splayhook at 0x105687c08>\n",
      "int0                         type                          <type 'numpy.int64'>\n",
      "int16                        type                          <type 'numpy.int16'>\n",
      "int32                        type                          <type 'numpy.int32'>\n",
      "int64                        type                          <type 'numpy.int64'>\n",
      "int8                         type                          <type 'numpy.int8'>\n",
      "int_                         type                          <type 'numpy.int64'>\n",
      "int_asbuffer                 builtin_function_or_method    <built-in function int_asbuffer>\n",
      "intc                         type                          <type 'numpy.int32'>\n",
      "integer                      type                          <type 'numpy.integer'>\n",
      "interactive                  function                      <function interactive at 0x104aba6e0>\n",
      "interp                       function                      <function interp at 0x10433dc08>\n",
      "intersect1d                  function                      <function intersect1d at 0x104374cf8>\n",
      "intp                         type                          <type 'numpy.int64'>\n",
      "inv                          function                      <function inv at 0x10435af50>\n",
      "invert                       ufunc                         <ufunc 'invert'>\n",
      "ioff                         function                      <function ioff at 0x105687ed8>\n",
      "ion                          function                      <function ion at 0x105687f50>\n",
      "ipmt                         function                      <function ipmt at 0x104398230>\n",
      "irfft                        function                      <function irfft at 0x1043a3ed8>\n",
      "irfft2                       function                      <function irfft2 at 0x103d5e500>\n",
      "irfftn                       function                      <function irfftn at 0x103d5e488>\n",
      "irr                          function                      <function irr at 0x104398500>\n",
      "is_busday                    builtin_function_or_method    <built-in function is_busday>\n",
      "is_closed_polygon            function                      <function is_closed_polygon at 0x104d24b18>\n",
      "is_numlike                   function                      <function is_numlike at 0x1045e02a8>\n",
      "is_string_like               function                      <function is_string_like at 0x1045e0050>\n",
      "isclose                      function                      <function isclose at 0x103d7b8c0>\n",
      "iscomplex                    function                      <function iscomplex at 0x10431fcf8>\n",
      "iscomplexobj                 function                      <function iscomplexobj at 0x10431fde8>\n",
      "isfinite                     ufunc                         <ufunc 'isfinite'>\n",
      "isfortran                    function                      <function isfortran at 0x103d1fc08>\n",
      "ishold                       function                      <function ishold at 0x105688d70>\n",
      "isinf                        ufunc                         <ufunc 'isinf'>\n",
      "isinteractive                function                      <function isinteractive at 0x105687e60>\n",
      "isnan                        ufunc                         <ufunc 'isnan'>\n",
      "isneginf                     function                      <function isneginf at 0x10431faa0>\n",
      "isposinf                     function                      <function isposinf at 0x10431fa28>\n",
      "ispower2                     function                      <function ispower2 at 0x104d21230>\n",
      "isreal                       function                      <function isreal at 0x10431fd70>\n",
      "isrealobj                    function                      <function isrealobj at 0x10431fe60>\n",
      "isscalar                     function                      <function isscalar at 0x103d7b578>\n",
      "issctype                     function                      <function issctype at 0x103d017d0>\n",
      "issubclass_                  function                      <function issubclass_ at 0x103d018c0>\n",
      "issubdtype                   function                      <function issubdtype at 0x103d019b0>\n",
      "issubsctype                  function                      <function issubsctype at 0x103d01938>\n",
      "isvector                     function                      <function isvector at 0x104d212a8>\n",
      "item                         str                           readable\n",
      "iterable                     function                      <function iterable at 0x10433d410>\n",
      "ix_                          function                      <function ix_ at 0x104349758>\n",
      "jet                          function                      <function jet at 0x10568d7d0>\n",
      "kaiser                       function                      <function kaiser at 0x10433e7d0>\n",
      "key                          str                           c\n",
      "kron                         function                      <function kron at 0x1043537d0>\n",
      "l                            list                          n=5\n",
      "l1norm                       function                      <function l1norm at 0x104d20de8>\n",
      "l2norm                       function                      <function l2norm at 0x104d20e60>\n",
      "lapack_lite                  module                        <module 'numpy.linalg.lap<...>y/linalg/lapack_lite.so'>\n",
      "laplace                      builtin_function_or_method    <built-in method laplace <...>te object at 0x1043f5730>\n",
      "ldexp                        ufunc                         <ufunc 'ldexp'>\n",
      "left_shift                   ufunc                         <ufunc 'left_shift'>\n",
      "legend                       function                      <function legend at 0x10568d050>\n",
      "less                         ufunc                         <ufunc 'less'>\n",
      "less_equal                   ufunc                         <ufunc 'less_equal'>\n",
      "lexsort                      builtin_function_or_method    <built-in function lexsort>\n",
      "linalg                       module                        <module 'numpy.linalg.lin<...>numpy/linalg/linalg.pyc'>\n",
      "linspace                     function                      <function linspace at 0x103d976e0>\n",
      "listdir                      builtin_function_or_method    <built-in function listdir>\n",
      "little_endian                bool                          True\n",
      "load                         function                      <function load at 0x104391f50>\n",
      "loads                        builtin_function_or_method    <built-in function loads>\n",
      "loadtxt                      function                      <function loadtxt at 0x104393848>\n",
      "locator_params               function                      <function locator_params at 0x10568d2a8>\n",
      "log                          ufunc                         <ufunc 'log'>\n",
      "log10                        ufunc                         <ufunc 'log10'>\n",
      "log1p                        ufunc                         <ufunc 'log1p'>\n",
      "log2                         ufunc                         <ufunc 'log2'>\n",
      "logaddexp                    ufunc                         <ufunc 'logaddexp'>\n",
      "logaddexp2                   ufunc                         <ufunc 'logaddexp2'>\n",
      "logical_and                  ufunc                         <ufunc 'logical_and'>\n",
      "logical_not                  ufunc                         <ufunc 'logical_not'>\n",
      "logical_or                   ufunc                         <ufunc 'logical_or'>\n",
      "logical_xor                  ufunc                         <ufunc 'logical_xor'>\n",
      "logistic                     builtin_function_or_method    <built-in method logistic<...>te object at 0x1043f5730>\n",
      "loglog                       function                      <function loglog at 0x10568c1b8>\n",
      "lognormal                    builtin_function_or_method    <built-in method lognorma<...>te object at 0x1043f5730>\n",
      "logseries                    builtin_function_or_method    <built-in method logserie<...>te object at 0x1043f5730>\n",
      "logspace                     function                      <function logspace at 0x103d97758>\n",
      "longcomplex                  type                          <type 'numpy.complex256'>\n",
      "longdouble                   type                          <type 'numpy.float128'>\n",
      "longest_contiguous_ones      function                      <function longest_contiguous_ones at 0x104d20410>\n",
      "longest_ones                 function                      <function longest_ones at 0x104d20488>\n",
      "longfloat                    type                          <type 'numpy.float128'>\n",
      "longlong                     type                          <type 'numpy.int64'>\n",
      "lookfor                      function                      <function lookfor at 0x10431b6e0>\n",
      "lstsq                        function                      <function lstsq at 0x104370668>\n",
      "ma                           module                        <module 'numpy.ma' from '<...>s/numpy/ma/__init__.pyc'>\n",
      "mafromtxt                    function                      <function mafromtxt at 0x104393b18>\n",
      "magma                        function                      <function magma at 0x10568db18>\n",
      "magnitude_spectrum           function                      <function magnitude_spectrum at 0x10568c230>\n",
      "margins                      function                      <function margins at 0x10568d398>\n",
      "mask_indices                 function                      <function mask_indices at 0x10433d1b8>\n",
      "mat                          function                      <function asmatrix at 0x104347140>\n",
      "math                         module                        <module 'math' from '//an<...>2.7/lib-dynload/math.so'>\n",
      "matmul                       builtin_function_or_method    <built-in function matmul>\n",
      "matplotlib                   module                        <module 'matplotlib' from<...>matplotlib/__init__.pyc'>\n",
      "matrix                       type                          <class 'numpy.matrixlib.defmatrix.matrix'>\n",
      "matrix_power                 function                      <function matrix_power at 0x1043471b8>\n",
      "matrix_rank                  function                      <function matrix_rank at 0x104370488>\n",
      "matshow                      function                      <function matshow at 0x10568af50>\n",
      "maximum                      ufunc                         <ufunc 'maximum'>\n",
      "maximum_sctype               function                      <function maximum_sctype at 0x103d016e0>\n",
      "may_share_memory             builtin_function_or_method    <built-in function may_share_memory>\n",
      "mean                         function                      <function mean at 0x103d78410>\n",
      "median                       function                      <function median at 0x10433e9b0>\n",
      "memmap                       type                          <class 'numpy.core.memmap.memmap'>\n",
      "meshgrid                     function                      <function meshgrid at 0x10433ec80>\n",
      "message                      str                           Hello how are you\n",
      "mgrid                        nd_grid                       <numpy.lib.index_tricks.n<...>id object at 0x104345890>\n",
      "min_scalar_type              builtin_function_or_method    <built-in function min_scalar_type>\n",
      "minimum                      ufunc                         <ufunc 'minimum'>\n",
      "minorticks_off               function                      <function minorticks_off at 0x10568aa28>\n",
      "minorticks_on                function                      <function minorticks_on at 0x10568a9b0>\n",
      "mintypecode                  function                      <function mintypecode at 0x10431fb18>\n",
      "mirr                         function                      <function mirr at 0x1043985f0>\n",
      "mlab                         module                        <module 'matplotlib.mlab'<...>ges/matplotlib/mlab.pyc'>\n",
      "mod                          ufunc                         <ufunc 'remainder'>\n",
      "modf                         ufunc                         <ufunc 'modf'>\n",
      "movavg                       function                      <function movavg at 0x104d20c08>\n",
      "moveaxis                     function                      <function moveaxis at 0x103d672a8>\n",
      "mpl                          module                        <module 'matplotlib' from<...>matplotlib/__init__.pyc'>\n",
      "msort                        function                      <function msort at 0x10433e8c0>\n",
      "multi_dot                    function                      <function multi_dot at 0x1043707d0>\n",
      "multinomial                  builtin_function_or_method    <built-in method multinom<...>te object at 0x1043f5730>\n",
      "multiply                     ufunc                         <ufunc 'multiply'>\n",
      "multivariate_normal          builtin_function_or_method    <built-in method multivar<...>te object at 0x1043f5730>\n",
      "mx2num                       function                      <function mx2num at 0x104bdcaa0>\n",
      "nan                          float                         nan\n",
      "nan_to_num                   function                      <function nan_to_num at 0x10431ff50>\n",
      "nanargmax                    function                      <function nanargmax at 0x10434e9b0>\n",
      "nanargmin                    function                      <function nanargmin at 0x10434e938>\n",
      "nanmax                       function                      <function nanmax at 0x10434e8c0>\n",
      "nanmean                      function                      <function nanmean at 0x10434eb18>\n",
      "nanmedian                    function                      <function nanmedian at 0x10434ecf8>\n",
      "nanmin                       function                      <function nanmin at 0x10434e848>\n",
      "nanpercentile                function                      <function nanpercentile at 0x10434ed70>\n",
      "nanprod                      function                      <function nanprod at 0x10434eaa0>\n",
      "nanstd                       function                      <function nanstd at 0x10434ef50>\n",
      "nansum                       function                      <function nansum at 0x10434ea28>\n",
      "nanvar                       function                      <function nanvar at 0x10434eed8>\n",
      "nbytes                       _typedict                     {<type 'numpy.bool_'>: 1,<...> <type 'numpy.int16'>: 2}\n",
      "ndarray                      type                          <type 'numpy.ndarray'>\n",
      "ndenumerate                  type                          <class 'numpy.lib.index_tricks.ndenumerate'>\n",
      "ndfromtxt                    function                      <function ndfromtxt at 0x104393aa0>\n",
      "ndim                         function                      <function ndim at 0x103d781b8>\n",
      "ndindex                      type                          <class 'numpy.lib.index_tricks.ndindex'>\n",
      "nditer                       type                          <type 'numpy.nditer'>\n",
      "negative                     ufunc                         <ufunc 'negative'>\n",
      "negative_binomial            builtin_function_or_method    <built-in method negative<...>te object at 0x1043f5730>\n",
      "nested_iters                 builtin_function_or_method    <built-in function nested_iters>\n",
      "new_figure_manager           function                      <function new_figure_manager at 0x10567b848>\n",
      "newaxis                      NoneType                      None\n",
      "newbuffer                    builtin_function_or_method    <built-in function newbuffer>\n",
      "nextafter                    ufunc                         <ufunc 'nextafter'>\n",
      "noncentral_chisquare         builtin_function_or_method    <built-in method noncentr<...>te object at 0x1043f5730>\n",
      "noncentral_f                 builtin_function_or_method    <built-in method noncentr<...>te object at 0x1043f5730>\n",
      "nonzero                      function                      <function nonzero at 0x103d768c0>\n",
      "norm                         function                      <function norm at 0x104370758>\n",
      "norm_flat                    function                      <function norm_flat at 0x104d20ed8>\n",
      "normal                       builtin_function_or_method    <built-in method normal o<...>te object at 0x1043f5730>\n",
      "normpdf                      function                      <function normpdf at 0x104d20320>\n",
      "not_equal                    ufunc                         <ufunc 'not_equal'>\n",
      "np                           module                        <module 'numpy' from '//a<...>ages/numpy/__init__.pyc'>\n",
      "nper                         function                      <function nper at 0x1043981b8>\n",
      "npv                          function                      <function npv at 0x104398578>\n",
      "num2date                     function                      <function num2date at 0x104bdad70>\n",
      "num2epoch                    function                      <function num2epoch at 0x104bdca28>\n",
      "number                       type                          <type 'numpy.number'>\n",
      "obj2sctype                   function                      <function obj2sctype at 0x103d01848>\n",
      "object0                      type                          <type 'numpy.object_'>\n",
      "object_                      type                          <type 'numpy.object_'>\n",
      "ogrid                        nd_grid                       <numpy.lib.index_tricks.n<...>id object at 0x104345910>\n",
      "ones                         function                      <function ones at 0x103d1f758>\n",
      "ones_like                    function                      <function ones_like at 0x103d1f7d0>\n",
      "os                           module                        <module 'os' from '//anac<...>da/lib/python2.7/os.pyc'>\n",
      "outer                        function                      <function outer at 0x103d1fed8>\n",
      "over                         function                      <function over at 0x105688de8>\n",
      "packbits                     builtin_function_or_method    <built-in function packbits>\n",
      "pad                          function                      <function pad at 0x1043a3758>\n",
      "pareto                       builtin_function_or_method    <built-in method pareto o<...>te object at 0x1043f5730>\n",
      "partition                    function                      <function partition at 0x103d76320>\n",
      "path_length                  function                      <function path_length at 0x104d24de8>\n",
      "pause                        function                      <function pause at 0x105688050>\n",
      "pcolor                       function                      <function pcolor at 0x10568c320>\n",
      "pcolormesh                   function                      <function pcolormesh at 0x10568c398>\n",
      "percentile                   function                      <function percentile at 0x10433eaa0>\n",
      "permutation                  builtin_function_or_method    <built-in method permutat<...>te object at 0x1043f5730>\n",
      "phase_spectrum               function                      <function phase_spectrum at 0x10568c410>\n",
      "pi                           float                         3.14159265359\n",
      "pie                          function                      <function pie at 0x10568c488>\n",
      "piecewise                    function                      <function piecewise at 0x10433d9b0>\n",
      "pink                         function                      <function pink at 0x10568d848>\n",
      "pinv                         function                      <function pinv at 0x104370500>\n",
      "pkgload                      function                      <function pkgload at 0x103d452a8>\n",
      "place                        function                      <function place at 0x10433e050>\n",
      "plasma                       function                      <function plasma at 0x10568dc08>\n",
      "plot                         function                      <function plot at 0x10568c500>\n",
      "plot_date                    function                      <function plot_date at 0x10568c578>\n",
      "plotfile                     function                      <function plotfile at 0x10568b1b8>\n",
      "plotting                     function                      <function plotting at 0x10568ab90>\n",
      "plt                          module                        <module 'matplotlib.pyplo<...>s/matplotlib/pyplot.pyc'>\n",
      "pmt                          function                      <function pmt at 0x104398140>\n",
      "poisson                      builtin_function_or_method    <built-in method poisson <...>te object at 0x1043f5730>\n",
      "polar                        function                      <function polar at 0x10568b140>\n",
      "poly                         function                      <function poly at 0x1043709b0>\n",
      "poly1d                       type                          <class 'numpy.lib.polynomial.poly1d'>\n",
      "poly_below                   function                      <function poly_below at 0x104d24a28>\n",
      "poly_between                 function                      <function poly_between at 0x104d24aa0>\n",
      "polyadd                      function                      <function polyadd at 0x104370c80>\n",
      "polyder                      function                      <function polyder at 0x104370b18>\n",
      "polydiv                      function                      <function polydiv at 0x104370de8>\n",
      "polyfit                      function                      <function polyfit at 0x104370b90>\n",
      "polyint                      function                      <function polyint at 0x104370aa0>\n",
      "polymul                      function                      <function polymul at 0x104370d70>\n",
      "polysub                      function                      <function polysub at 0x104370cf8>\n",
      "polyval                      function                      <function polyval at 0x104370c08>\n",
      "power                        builtin_function_or_method    <built-in method power of<...>te object at 0x1043f5730>\n",
      "ppmt                         function                      <function ppmt at 0x104398320>\n",
      "prctile                      function                      <function prctile at 0x104d20500>\n",
      "prctile_rank                 function                      <function prctile_rank at 0x104d20758>\n",
      "print_a                      function                      <function print_a at 0x1056a2230>\n",
      "print_b                      function                      <function print_b at 0x1056a20c8>\n",
      "print_function               __future__._Feature           _Feature((2, 6, 0, 'alpha<...>0, 0, 'alpha', 0), 65536)\n",
      "prism                        function                      <function prism at 0x10568d8c0>\n",
      "prod                         function                      <function prod at 0x103d780c8>\n",
      "product                      function                      <function product at 0x103d76b18>\n",
      "promote_types                builtin_function_or_method    <built-in function promote_types>\n",
      "psd                          function                      <function psd at 0x10568c5f0>\n",
      "ptp                          function                      <function ptp at 0x103d76e60>\n",
      "put                          function                      <function put at 0x103d761b8>\n",
      "putmask                      builtin_function_or_method    <built-in function putmask>\n",
      "pv                           function                      <function pv at 0x104398398>\n",
      "pylab_setup                  function                      <function pylab_setup at 0x10567b410>\n",
      "qr                           function                      <function qr at 0x1043700c8>\n",
      "quicksort                    function                      <function quicksort at 0x103caecf8>\n",
      "quiver                       function                      <function quiver at 0x10568c668>\n",
      "quiverkey                    function                      <function quiverkey at 0x10568c6e0>\n",
      "r2                           list                          n=7\n",
      "r_                           RClass                        <numpy.lib.index_tricks.R<...>ss object at 0x104345990>\n",
      "rad2deg                      ufunc                         <ufunc 'rad2deg'>\n",
      "radians                      ufunc                         <ufunc 'radians'>\n",
      "rand                         builtin_function_or_method    <built-in method rand of <...>te object at 0x1043f5730>\n",
      "randint                      builtin_function_or_method    <built-in method randint <...>te object at 0x1043f5730>\n",
      "randn                        builtin_function_or_method    <built-in method randn of<...>te object at 0x1043f5730>\n",
      "random                       builtin_function_or_method    <built-in method random_s<...>te object at 0x1043f5730>\n",
      "random_integers              builtin_function_or_method    <built-in method random_i<...>te object at 0x1043f5730>\n",
      "random_sample                builtin_function_or_method    <built-in method random_s<...>te object at 0x1043f5730>\n",
      "ranf                         builtin_function_or_method    <built-in method random_s<...>te object at 0x1043f5730>\n",
      "rank                         function                      <function rank at 0x103d78230>\n",
      "rate                         function                      <function rate at 0x104398488>\n",
      "ravel                        function                      <function ravel at 0x103d76848>\n",
      "ravel_multi_index            builtin_function_or_method    <built-in function ravel_multi_index>\n",
      "rayleigh                     builtin_function_or_method    <built-in method rayleigh<...>te object at 0x1043f5730>\n",
      "rc                           function                      <function rc at 0x105688140>\n",
      "rcParams                     RcParams                      agg.path.chunksize: 0\\nan<...>e\\nytick.minor.width: 0.5\n",
      "rcParamsDefault              RcParams                      agg.path.chunksize: 0\\nan<...>e\\nytick.minor.width: 0.5\n",
      "rc_context                   function                      <function rc_context at 0x1056881b8>\n",
      "rcdefaults                   function                      <function rcdefaults at 0x105688230>\n",
      "real                         function                      <function real at 0x10431fc08>\n",
      "real_if_close                function                      <function real_if_close at 0x104323050>\n",
      "rec                          module                        <module 'numpy.core.recor<...>/numpy/core/records.pyc'>\n",
      "rec2csv                      function                      <function rec2csv at 0x104d24578>\n",
      "rec_append_fields            function                      <function rec_append_fields at 0x104d21410>\n",
      "rec_drop_fields              function                      <function rec_drop_fields at 0x104d21488>\n",
      "rec_join                     function                      <function rec_join at 0x104d21668>\n",
      "recarray                     type                          <class 'numpy.recarray'>\n",
      "recfromcsv                   function                      <function recfromcsv at 0x104393c08>\n",
      "recfromtxt                   function                      <function recfromtxt at 0x104393b90>\n",
      "reciprocal                   ufunc                         <ufunc 'reciprocal'>\n",
      "record                       type                          <class 'numpy.record'>\n",
      "register_cmap                function                      <function register_cmap at 0x104c66320>\n",
      "relativedelta                type                          <class 'dateutil.relativedelta.relativedelta'>\n",
      "remainder                    ufunc                         <ufunc 'remainder'>\n",
      "repeat                       function                      <function repeat at 0x103d76140>\n",
      "require                      function                      <function require at 0x103d1fb90>\n",
      "reshape                      function                      <function reshape at 0x103d76050>\n",
      "resize                       function                      <function resize at 0x103d76668>\n",
      "restoredot                   function                      <function restoredot at 0x103d67050>\n",
      "result_type                  builtin_function_or_method    <built-in function result_type>\n",
      "rfft                         function                      <function rfft at 0x1043a3e60>\n",
      "rfft2                        function                      <function rfft2 at 0x103d5e410>\n",
      "rfftfreq                     function                      <function rfftfreq at 0x103d5e6e0>\n",
      "rfftn                        function                      <function rfftn at 0x103d5e398>\n",
      "rgrids                       function                      <function rgrids at 0x10568aaa0>\n",
      "right_shift                  ufunc                         <ufunc 'right_shift'>\n",
      "rint                         ufunc                         <ufunc 'rint'>\n",
      "rk4                          function                      <function rk4 at 0x104d20848>\n",
      "rms_flat                     function                      <function rms_flat at 0x104d20d70>\n",
      "roll                         function                      <function roll at 0x103d67140>\n",
      "rollaxis                     function                      <function rollaxis at 0x103d671b8>\n",
      "roots                        function                      <function roots at 0x104370a28>\n",
      "rot90                        function                      <function rot90 at 0x104323cf8>\n",
      "round_                       function                      <function round_ at 0x103d78398>\n",
      "row_stack                    function                      <function vstack at 0x103da1140>\n",
      "rrule                        type                          <class 'dateutil.rrule.rrule'>\n",
      "s                            set                           set(['a', 'c', 'b'])\n",
      "s_                           IndexExpression               <numpy.lib.index_tricks.I<...>on object at 0x104345b90>\n",
      "safe_eval                    function                      <function safe_eval at 0x10431b848>\n",
      "sample                       builtin_function_or_method    <built-in method random_s<...>te object at 0x1043f5730>\n",
      "save                         function                      <function save at 0x1043935f0>\n",
      "savefig                      function                      <function savefig at 0x105688a28>\n",
      "savetxt                      function                      <function savetxt at 0x104393938>\n",
      "savez                        function                      <function savez at 0x104393668>\n",
      "savez_compressed             function                      <function savez_compressed at 0x1043936e0>\n",
      "sca                          function                      <function sca at 0x105688f50>\n",
      "scatter                      function                      <function scatter at 0x10568c758>\n",
      "sci                          function                      <function sci at 0x1056882a8>\n",
      "scipy                        module                        <module 'scipy' from '//a<...>ages/scipy/__init__.pyc'>\n",
      "sctype2char                  function                      <function sctype2char at 0x103d01b18>\n",
      "sctypeDict                   dict                          n=156\n",
      "sctypeNA                     dict                          n=88\n",
      "sctypes                      dict                          n=5\n",
      "searchsorted                 function                      <function searchsorted at 0x103d765f0>\n",
      "seed                         builtin_function_or_method    <built-in method seed of <...>te object at 0x1043f5730>\n",
      "segments_intersect           function                      <function segments_intersect at 0x104d20b18>\n",
      "select                       function                      <function select at 0x10433da28>\n",
      "semilogx                     function                      <function semilogx at 0x10568c7d0>\n",
      "semilogy                     function                      <function semilogy at 0x10568c848>\n",
      "set_cmap                     function                      <function set_cmap at 0x10568aed8>\n",
      "set_numeric_ops              builtin_function_or_method    <built-in function set_numeric_ops>\n",
      "set_printoptions             function                      <function set_printoptions at 0x103d785f0>\n",
      "set_state                    builtin_function_or_method    <built-in method set_stat<...>te object at 0x1043f5730>\n",
      "set_string_function          function                      <function set_string_function at 0x103d7b410>\n",
      "setbufsize                   function                      <function setbufsize at 0x103d7bb18>\n",
      "setdiff1d                    function                      <function setdiff1d at 0x104374ed8>\n",
      "seterr                       function                      <function seterr at 0x103d7ba28>\n",
      "seterrcall                   function                      <function seterrcall at 0x103d7bc08>\n",
      "seterrobj                    builtin_function_or_method    <built-in function seterrobj>\n",
      "setp                         function                      <function setp at 0x105688398>\n",
      "setx                         function                      <function setx at 0x103caeb18>\n",
      "setxor1d                     function                      <function setxor1d at 0x104374d70>\n",
      "shape                        function                      <function shape at 0x103d76938>\n",
      "shares_memory                builtin_function_or_method    <built-in function shares_memory>\n",
      "short                        type                          <type 'numpy.int16'>\n",
      "show                         function                      <function show at 0x105687de8>\n",
      "show_config                  function                      <function show at 0x103caeb90>\n",
      "shuffle                      builtin_function_or_method    <built-in method shuffle <...>te object at 0x1043f5730>\n",
      "sign                         ufunc                         <ufunc 'sign'>\n",
      "signbit                      ufunc                         <ufunc 'signbit'>\n",
      "signedinteger                type                          <type 'numpy.signedinteger'>\n",
      "silent_list                  type                          <class 'matplotlib.cbook.silent_list'>\n",
      "sin                          ufunc                         <ufunc 'sin'>\n",
      "sinc                         function                      <function sinc at 0x10433e848>\n",
      "single                       type                          <type 'numpy.float32'>\n",
      "singlecomplex                type                          <type 'numpy.complex64'>\n",
      "sinh                         ufunc                         <ufunc 'sinh'>\n",
      "six                          module                        <module 'matplotlib.exter<...>otlib/externals/six.pyc'>\n",
      "size                         function                      <function size at 0x103d782a8>\n",
      "slogdet                      function                      <function slogdet at 0x104370578>\n",
      "slopes                       function                      <function slopes at 0x104d246e0>\n",
      "solve                        function                      <function solve at 0x10435ae60>\n",
      "sometrue                     function                      <function sometrue at 0x103d76b90>\n",
      "sort                         function                      <function sort at 0x103d76410>\n",
      "sort_complex                 function                      <function sort_complex at 0x10433dd70>\n",
      "source                       function                      <function source at 0x10431b668>\n",
      "spacing                      ufunc                         <ufunc 'spacing'>\n",
      "specgram                     function                      <function specgram at 0x10568c8c0>\n",
      "spectral                     function                      <function spectral at 0x10568daa0>\n",
      "split                        function                      <function split at 0x104353500>\n",
      "spring                       function                      <function spring at 0x10568d938>\n",
      "spy                          function                      <function spy at 0x10568b320>\n",
      "sqrt                         ufunc                         <ufunc 'sqrt'>\n",
      "square                       ufunc                         <ufunc 'square'>\n",
      "squeeze                      function                      <function squeeze at 0x103d766e0>\n",
      "stack                        function                      <function stack at 0x103da1230>\n",
      "stackplot                    function                      <function stackplot at 0x10568c938>\n",
      "standard_cauchy              builtin_function_or_method    <built-in method standard<...>te object at 0x1043f5730>\n",
      "standard_exponential         builtin_function_or_method    <built-in method standard<...>te object at 0x1043f5730>\n",
      "standard_gamma               builtin_function_or_method    <built-in method standard<...>te object at 0x1043f5730>\n",
      "standard_normal              builtin_function_or_method    <built-in method standard<...>te object at 0x1043f5730>\n",
      "standard_t                   builtin_function_or_method    <built-in method standard<...>te object at 0x1043f5730>\n",
      "std                          function                      <function std at 0x103d78488>\n",
      "stem                         function                      <function stem at 0x10568c9b0>\n",
      "step                         function                      <function step at 0x10568ca28>\n",
      "stineman_interp              function                      <function stineman_interp at 0x104d24758>\n",
      "str_                         type                          <type 'numpy.string_'>\n",
      "streamplot                   function                      <function streamplot at 0x10568caa0>\n",
      "string0                      type                          <type 'numpy.string_'>\n",
      "string_                      type                          <type 'numpy.string_'>\n",
      "strpdate2num                 type                          <class 'matplotlib.dates.strpdate2num'>\n",
      "style                        module                        <module 'matplotlib.style<...>tlib/style/__init__.pyc'>\n",
      "subplot                      function                      <function subplot at 0x10568a0c8>\n",
      "subplot2grid                 function                      <function subplot2grid at 0x10568a1b8>\n",
      "subplot_tool                 function                      <function subplot_tool at 0x10568a398>\n",
      "subplots                     function                      <function subplots at 0x10568a140>\n",
      "subplots_adjust              function                      <function subplots_adjust at 0x10568a320>\n",
      "subtract                     ufunc                         <ufunc 'subtract'>\n",
      "sum                          function                      <function sum at 0x103d76aa0>\n",
      "summer                       function                      <function summer at 0x10568d9b0>\n",
      "suptitle                     function                      <function suptitle at 0x105688c08>\n",
      "svd                          function                      <function svd at 0x104370398>\n",
      "swapaxes                     function                      <function swapaxes at 0x103d76230>\n",
      "switch_backend               function                      <function switch_backend at 0x105687cf8>\n",
      "sys                          module                        <module 'sys' (built-in)>\n",
      "t                            tuple                         n=3\n",
      "table                        function                      <function table at 0x10568d0c8>\n",
      "take                         function                      <function take at 0x103d67f50>\n",
      "tan                          ufunc                         <ufunc 'tan'>\n",
      "tanh                         ufunc                         <ufunc 'tanh'>\n",
      "tel                          dict                          n=3\n",
      "tensordot                    function                      <function tensordot at 0x103d670c8>\n",
      "tensorinv                    function                      <function tensorinv at 0x10435aed8>\n",
      "tensorsolve                  function                      <function tensorsolve at 0x10435ade8>\n",
      "test                         instancemethod                <bound method NoseTester.<...>r object at 0x104361cd0>>\n",
      "text                         function                      <function text at 0x10568d140>\n",
      "thetagrids                   function                      <function thetagrids at 0x10568ab18>\n",
      "tick_params                  function                      <function tick_params at 0x10568d320>\n",
      "ticklabel_format             function                      <function ticklabel_format at 0x10568d230>\n",
      "tight_layout                 function                      <function tight_layout at 0x10568a410>\n",
      "tile                         function                      <function tile at 0x104353848>\n",
      "timedelta64                  type                          <type 'numpy.timedelta64'>\n",
      "title                        function                      <function title at 0x10568a500>\n",
      "trace                        function                      <function trace at 0x103d767d0>\n",
      "transpose                    function                      <function transpose at 0x103d762a8>\n",
      "trapz                        function                      <function trapz at 0x10433eb90>\n",
      "tri                          function                      <function tri at 0x104323ed8>\n",
      "triangular                   builtin_function_or_method    <built-in method triangul<...>te object at 0x1043f5730>\n",
      "tricontour                   function                      <function tricontour at 0x10568cb18>\n",
      "tricontourf                  function                      <function tricontourf at 0x10568cb90>\n",
      "tril                         function                      <function tril at 0x104323f50>\n",
      "tril_indices                 function                      <function tril_indices at 0x10433d230>\n",
      "tril_indices_from            function                      <function tril_indices_from at 0x10433d2a8>\n",
      "trim_zeros                   function                      <function trim_zeros at 0x10433dde8>\n",
      "tripcolor                    function                      <function tripcolor at 0x10568cc08>\n",
      "triplot                      function                      <function triplot at 0x10568cc80>\n",
      "triu                         function                      <function triu at 0x10433d050>\n",
      "triu_indices                 function                      <function triu_indices at 0x10433d320>\n",
      "triu_indices_from            function                      <function triu_indices_from at 0x10433d398>\n",
      "true_divide                  ufunc                         <ufunc 'true_divide'>\n",
      "trunc                        ufunc                         <ufunc 'trunc'>\n",
      "try_to_modify                function                      <function try_to_modify at 0x103cae320>\n",
      "twinx                        function                      <function twinx at 0x10568a230>\n",
      "twiny                        function                      <function twiny at 0x10568a2a8>\n",
      "typeDict                     dict                          n=156\n",
      "typeNA                       dict                          n=88\n",
      "typecodes                    dict                          n=9\n",
      "typename                     function                      <function typename at 0x104323140>\n",
      "types                        module                        <module 'types' from '//a<...>lib/python2.7/types.pyc'>\n",
      "u                            tuple                         n=2\n",
      "ubyte                        type                          <type 'numpy.uint8'>\n",
      "ufunc                        type                          <type 'numpy.ufunc'>\n",
      "uint                         type                          <type 'numpy.uint64'>\n",
      "uint0                        type                          <type 'numpy.uint64'>\n",
      "uint16                       type                          <type 'numpy.uint16'>\n",
      "uint32                       type                          <type 'numpy.uint32'>\n",
      "uint64                       type                          <type 'numpy.uint64'>\n",
      "uint8                        type                          <type 'numpy.uint8'>\n",
      "uintc                        type                          <type 'numpy.uint32'>\n",
      "uintp                        type                          <type 'numpy.uint64'>\n",
      "ulonglong                    type                          <type 'numpy.uint64'>\n",
      "unicode0                     type                          <type 'numpy.unicode_'>\n",
      "unicode_                     type                          <type 'numpy.unicode_'>\n",
      "unicode_literals             __future__._Feature           _Feature((2, 6, 0, 'alpha<...>, 0, 'alpha', 0), 131072)\n",
      "uniform                      builtin_function_or_method    <built-in method uniform <...>te object at 0x1043f5730>\n",
      "uninstall_repl_displayhook   function                      <function uninstall_repl_<...>splayhook at 0x105687c80>\n",
      "union1d                      function                      <function union1d at 0x104374e60>\n",
      "unique                       function                      <function unique at 0x104374c80>\n",
      "unpackbits                   builtin_function_or_method    <built-in function unpackbits>\n",
      "unravel_index                builtin_function_or_method    <built-in function unravel_index>\n",
      "unsignedinteger              type                          <type 'numpy.unsignedinteger'>\n",
      "unwrap                       function                      <function unwrap at 0x10433dcf8>\n",
      "ushort                       type                          <type 'numpy.uint16'>\n",
      "va                           function                      <function variable_args at 0x103caede8>\n",
      "val                          complex                       1j\n",
      "vander                       function                      <function vander at 0x10433d0c8>\n",
      "var                          function                      <function var at 0x103d78500>\n",
      "variable_args                function                      <function variable_args at 0x103caede8>\n",
      "vdot                         builtin_function_or_method    <built-in function vdot>\n",
      "vector_lengths               function                      <function vector_lengths at 0x104d24cf8>\n",
      "vectorize                    type                          <class 'numpy.lib.function_base.vectorize'>\n",
      "violinplot                   function                      <function violinplot at 0x10568ccf8>\n",
      "viridis                      function                      <function viridis at 0x10568dc80>\n",
      "vlines                       function                      <function vlines at 0x10568cd70>\n",
      "void                         type                          <type 'numpy.void'>\n",
      "void0                        type                          <type 'numpy.void'>\n",
      "vonmises                     builtin_function_or_method    <built-in method vonmises<...>te object at 0x1043f5730>\n",
      "vowels                       str                           aeiouy\n",
      "vsplit                       function                      <function vsplit at 0x1043535f0>\n",
      "vstack                       function                      <function vstack at 0x103da1140>\n",
      "waitforbuttonpress           function                      <function waitforbuttonpress at 0x105688b18>\n",
      "wald                         builtin_function_or_method    <built-in method wald of <...>te object at 0x1043f5730>\n",
      "warnings                     module                        <module 'warnings' from '<...>/python2.7/warnings.pyc'>\n",
      "weibull                      builtin_function_or_method    <built-in method weibull <...>te object at 0x1043f5730>\n",
      "where                        builtin_function_or_method    <built-in function where>\n",
      "who                          function                      <function who at 0x10431b410>\n",
      "window_hanning               function                      <function window_hanning at 0x104d1c668>\n",
      "window_none                  function                      <function window_none at 0x104d1c6e0>\n",
      "winter                       function                      <function winter at 0x10568da28>\n",
      "word                         str                           you\n",
      "words                        tuple                         n=3\n",
      "x                            int                           10\n",
      "xcorr                        function                      <function xcorr at 0x10568cde8>\n",
      "xkcd                         function                      <function xkcd at 0x105688320>\n",
      "xlabel                       function                      <function xlabel at 0x10568a5f0>\n",
      "xlim                         function                      <function xlim at 0x10568a6e0>\n",
      "xscale                       function                      <function xscale at 0x10568a7d0>\n",
      "xticks                       function                      <function xticks at 0x10568a8c0>\n",
      "ylabel                       function                      <function ylabel at 0x10568a668>\n",
      "ylim                         function                      <function ylim at 0x10568a758>\n",
      "yscale                       function                      <function yscale at 0x10568a848>\n",
      "yticks                       function                      <function yticks at 0x10568a938>\n",
      "z                            complex                       (-134+352j)\n",
      "zeros                        builtin_function_or_method    <built-in function zeros>\n",
      "zeros_like                   function                      <function zeros_like at 0x103d1f6e0>\n",
      "zipf                         builtin_function_or_method    <built-in method zipf of <...>te object at 0x1043f5730>\n"
     ]
    }
   ],
   "source": [
    "whos"
   ]
  },
  {
   "cell_type": "code",
   "execution_count": 179,
   "metadata": {
    "collapsed": true
   },
   "outputs": [],
   "source": [
    "print_a()"
   ]
  },
  {
   "cell_type": "code",
   "execution_count": 180,
   "metadata": {
    "collapsed": false
   },
   "outputs": [
    {
     "name": "stdout",
     "output_type": "stream",
     "text": [
      "b\n",
      "a\n"
     ]
    },
    {
     "data": {
      "text/plain": [
       "<module 'demo' from 'demo.py'>"
      ]
     },
     "execution_count": 180,
     "metadata": {},
     "output_type": "execute_result"
    }
   ],
   "source": [
    "reload(demo)"
   ]
  },
  {
   "cell_type": "code",
   "execution_count": 181,
   "metadata": {
    "collapsed": false
   },
   "outputs": [
    {
     "name": "stdout",
     "output_type": "stream",
     "text": [
      "b\n",
      "a\n"
     ]
    }
   ],
   "source": [
    "%run demo"
   ]
  },
  {
   "cell_type": "code",
   "execution_count": 182,
   "metadata": {
    "collapsed": true
   },
   "outputs": [],
   "source": [
    "import sys"
   ]
  },
  {
   "cell_type": "code",
   "execution_count": 183,
   "metadata": {
    "collapsed": false
   },
   "outputs": [
    {
     "data": {
      "text/plain": [
       "['',\n",
       " '//anaconda/lib/python2.7/site-packages/xgboost-0.6-py2.7.egg',\n",
       " '//anaconda/lib/python2.7/site-packages/six-1.10.0-py2.7.egg',\n",
       " '//anaconda/lib/python27.zip',\n",
       " '//anaconda/lib/python2.7',\n",
       " '//anaconda/lib/python2.7/plat-darwin',\n",
       " '//anaconda/lib/python2.7/plat-mac',\n",
       " '//anaconda/lib/python2.7/plat-mac/lib-scriptpackages',\n",
       " '//anaconda/lib/python2.7/lib-tk',\n",
       " '//anaconda/lib/python2.7/lib-old',\n",
       " '//anaconda/lib/python2.7/lib-dynload',\n",
       " '//anaconda/lib/python2.7/site-packages',\n",
       " '//anaconda/lib/python2.7/site-packages/Sphinx-1.4.1-py2.7.egg',\n",
       " '//anaconda/lib/python2.7/site-packages/aeosa',\n",
       " '//anaconda/lib/python2.7/site-packages/IPython/extensions',\n",
       " '/Users/qinkevin/.ipython']"
      ]
     },
     "execution_count": 183,
     "metadata": {},
     "output_type": "execute_result"
    }
   ],
   "source": [
    "sys.path"
   ]
  },
  {
   "cell_type": "code",
   "execution_count": 184,
   "metadata": {
    "collapsed": true
   },
   "outputs": [],
   "source": [
    "import scipy"
   ]
  },
  {
   "cell_type": "code",
   "execution_count": 185,
   "metadata": {
    "collapsed": false
   },
   "outputs": [
    {
     "data": {
      "text/plain": [
       "'//anaconda/lib/python2.7/site-packages/scipy/__init__.pyc'"
      ]
     },
     "execution_count": 185,
     "metadata": {},
     "output_type": "execute_result"
    }
   ],
   "source": [
    "scipy.__file__"
   ]
  },
  {
   "cell_type": "code",
   "execution_count": 186,
   "metadata": {
    "collapsed": true
   },
   "outputs": [],
   "source": [
    "import scipy.version"
   ]
  },
  {
   "cell_type": "code",
   "execution_count": 188,
   "metadata": {
    "collapsed": false
   },
   "outputs": [
    {
     "data": {
      "text/plain": [
       "'0.18.0'"
      ]
     },
     "execution_count": 188,
     "metadata": {},
     "output_type": "execute_result"
    }
   ],
   "source": [
    "scipy.version.version"
   ]
  },
  {
   "cell_type": "code",
   "execution_count": 189,
   "metadata": {
    "collapsed": true
   },
   "outputs": [],
   "source": [
    "import scipy.ndimage.morphology"
   ]
  },
  {
   "cell_type": "code",
   "execution_count": 190,
   "metadata": {
    "collapsed": true
   },
   "outputs": [],
   "source": [
    "from scipy.ndimage import morphology"
   ]
  },
  {
   "cell_type": "code",
   "execution_count": 191,
   "metadata": {
    "collapsed": true
   },
   "outputs": [],
   "source": [
    "morphology.binary_dilation?"
   ]
  },
  {
   "cell_type": "code",
   "execution_count": 192,
   "metadata": {
    "collapsed": false
   },
   "outputs": [
    {
     "data": {
      "text/plain": [
       "'/Users/qinkevin/PycharmProjects/ScipyLectures'"
      ]
     },
     "execution_count": 192,
     "metadata": {},
     "output_type": "execute_result"
    }
   ],
   "source": [
    "os.getcwd()"
   ]
  },
  {
   "cell_type": "code",
   "execution_count": 198,
   "metadata": {
    "collapsed": false
   },
   "outputs": [
    {
     "data": {
      "text/plain": [
       "'.'"
      ]
     },
     "execution_count": 198,
     "metadata": {},
     "output_type": "execute_result"
    }
   ],
   "source": [
    "os.curdir"
   ]
  },
  {
   "cell_type": "code",
   "execution_count": 196,
   "metadata": {
    "collapsed": false
   },
   "outputs": [
    {
     "data": {
      "text/plain": [
       "['.idea',\n",
       " '.ipynb_checkpoints',\n",
       " '1.ipynb',\n",
       " '1.py',\n",
       " '2.ipynb',\n",
       " 'demo.py',\n",
       " 'demo.pyc']"
      ]
     },
     "execution_count": 196,
     "metadata": {},
     "output_type": "execute_result"
    }
   ],
   "source": [
    "os.listdir(os.curdir)"
   ]
  },
  {
   "cell_type": "code",
   "execution_count": 199,
   "metadata": {
    "collapsed": false
   },
   "outputs": [
    {
     "data": {
      "text/plain": [
       "0"
      ]
     },
     "execution_count": 199,
     "metadata": {},
     "output_type": "execute_result"
    }
   ],
   "source": [
    "os.system('ls')"
   ]
  },
  {
   "cell_type": "code",
   "execution_count": 204,
   "metadata": {
    "collapsed": false
   },
   "outputs": [
    {
     "name": "stdout",
     "output_type": "stream",
     "text": [
      "/Users/qinkevin/PycharmProjects/ScipyLectures/1.ipynb\n",
      "/Users/qinkevin/PycharmProjects/ScipyLectures/1.py\n",
      "/Users/qinkevin/PycharmProjects/ScipyLectures/2.ipynb\n",
      "/Users/qinkevin/PycharmProjects/ScipyLectures/demo.py\n",
      "/Users/qinkevin/PycharmProjects/ScipyLectures/demo.pyc\n",
      "/Users/qinkevin/PycharmProjects/ScipyLectures/encodings.xml\n",
      "/Users/qinkevin/PycharmProjects/ScipyLectures/misc.xml\n",
      "/Users/qinkevin/PycharmProjects/ScipyLectures/modules.xml\n",
      "/Users/qinkevin/PycharmProjects/ScipyLectures/ScipyLectures.iml\n",
      "/Users/qinkevin/PycharmProjects/ScipyLectures/workspace.xml\n",
      "/Users/qinkevin/PycharmProjects/ScipyLectures/qinkevin.xml\n",
      "/Users/qinkevin/PycharmProjects/ScipyLectures/1-checkpoint.ipynb\n",
      "/Users/qinkevin/PycharmProjects/ScipyLectures/2-checkpoint.ipynb\n"
     ]
    }
   ],
   "source": [
    "for dirpath,dirnames,filenames in os.walk(os.curdir):\n",
    "    for fp in filenames:\n",
    "        print os.path.abspath(fp)"
   ]
  },
  {
   "cell_type": "code",
   "execution_count": 205,
   "metadata": {
    "collapsed": true
   },
   "outputs": [],
   "source": [
    "import os"
   ]
  },
  {
   "cell_type": "code",
   "execution_count": 206,
   "metadata": {
    "collapsed": false
   },
   "outputs": [
    {
     "data": {
      "text/plain": [
       "['LC_NUMERIC',\n",
       " 'LC_CTYPE',\n",
       " 'TERM_PROGRAM_VERSION',\n",
       " 'LOGNAME',\n",
       " 'USER',\n",
       " 'HOME',\n",
       " 'PATH',\n",
       " 'TERM_PROGRAM',\n",
       " 'LANG',\n",
       " 'TERM',\n",
       " 'Apple_PubSub_Socket_Render',\n",
       " 'LC_MONETARY',\n",
       " 'XPC_FLAGS',\n",
       " '_',\n",
       " 'TERM_SESSION_ID',\n",
       " 'XPC_SERVICE_NAME',\n",
       " 'JPY_PARENT_PID',\n",
       " 'SSH_AUTH_SOCK',\n",
       " 'SHELL',\n",
       " 'GIT_PAGER',\n",
       " 'LC_ALL',\n",
       " 'TMPDIR',\n",
       " 'LC_MESSAGES',\n",
       " 'LC_COLLATE',\n",
       " 'CLICOLOR',\n",
       " '__CF_USER_TEXT_ENCODING',\n",
       " 'SHLVL',\n",
       " 'PWD',\n",
       " 'LC_TIME',\n",
       " 'PAGER']"
      ]
     },
     "execution_count": 206,
     "metadata": {},
     "output_type": "execute_result"
    }
   ],
   "source": [
    "os.environ.keys()"
   ]
  },
  {
   "cell_type": "code",
   "execution_count": 209,
   "metadata": {
    "collapsed": false
   },
   "outputs": [
    {
     "data": {
      "text/plain": [
       "'darwin'"
      ]
     },
     "execution_count": 209,
     "metadata": {},
     "output_type": "execute_result"
    }
   ],
   "source": [
    "sys.platform"
   ]
  },
  {
   "cell_type": "code",
   "execution_count": 210,
   "metadata": {
    "collapsed": false
   },
   "outputs": [
    {
     "data": {
      "text/plain": [
       "'2.7.12 |Anaconda custom (x86_64)| (default, Jul  2 2016, 17:43:17) \\n[GCC 4.2.1 (Based on Apple Inc. build 5658) (LLVM build 2336.11.00)]'"
      ]
     },
     "execution_count": 210,
     "metadata": {},
     "output_type": "execute_result"
    }
   ],
   "source": [
    "sys.version"
   ]
  },
  {
   "cell_type": "code",
   "execution_count": 211,
   "metadata": {
    "collapsed": false
   },
   "outputs": [
    {
     "data": {
      "text/plain": [
       "'//anaconda'"
      ]
     },
     "execution_count": 211,
     "metadata": {},
     "output_type": "execute_result"
    }
   ],
   "source": [
    "sys.prefix"
   ]
  },
  {
   "cell_type": "code",
   "execution_count": 212,
   "metadata": {
    "collapsed": false
   },
   "outputs": [
    {
     "data": {
      "text/plain": [
       "['/anaconda/lib/python2.7/site-packages/ipykernel/__main__.py',\n",
       " '-f',\n",
       " '/Users/qinkevin/Library/Jupyter/runtime/kernel-69e0dbb5-09ab-48c3-a663-52929440aba6.json']"
      ]
     },
     "execution_count": 212,
     "metadata": {},
     "output_type": "execute_result"
    }
   ],
   "source": [
    "sys.argv"
   ]
  },
  {
   "cell_type": "code",
   "execution_count": 213,
   "metadata": {
    "collapsed": false
   },
   "outputs": [
    {
     "data": {
      "text/plain": [
       "['',\n",
       " '//anaconda/lib/python2.7/site-packages/xgboost-0.6-py2.7.egg',\n",
       " '//anaconda/lib/python2.7/site-packages/six-1.10.0-py2.7.egg',\n",
       " '//anaconda/lib/python27.zip',\n",
       " '//anaconda/lib/python2.7',\n",
       " '//anaconda/lib/python2.7/plat-darwin',\n",
       " '//anaconda/lib/python2.7/plat-mac',\n",
       " '//anaconda/lib/python2.7/plat-mac/lib-scriptpackages',\n",
       " '//anaconda/lib/python2.7/lib-tk',\n",
       " '//anaconda/lib/python2.7/lib-old',\n",
       " '//anaconda/lib/python2.7/lib-dynload',\n",
       " '//anaconda/lib/python2.7/site-packages',\n",
       " '//anaconda/lib/python2.7/site-packages/Sphinx-1.4.1-py2.7.egg',\n",
       " '//anaconda/lib/python2.7/site-packages/aeosa',\n",
       " '//anaconda/lib/python2.7/site-packages/IPython/extensions',\n",
       " '/Users/qinkevin/.ipython']"
      ]
     },
     "execution_count": 213,
     "metadata": {},
     "output_type": "execute_result"
    }
   ],
   "source": [
    "sys.path"
   ]
  },
  {
   "cell_type": "code",
   "execution_count": 218,
   "metadata": {
    "collapsed": false
   },
   "outputs": [
    {
     "name": "stdout",
     "output_type": "stream",
     "text": [
      "Please enter a numbera\n",
      "That was no valid number.Try again..\n",
      "Please enter a number2\n"
     ]
    }
   ],
   "source": [
    "while True:\n",
    "    try:\n",
    "        x=int(raw_input('Please enter a number'))\n",
    "        break\n",
    "    except ValueError:\n",
    "        print('That was no valid number.Try again..')"
   ]
  },
  {
   "cell_type": "code",
   "execution_count": 219,
   "metadata": {
    "collapsed": false
   },
   "outputs": [
    {
     "name": "stdout",
     "output_type": "stream",
     "text": [
      "Please enter a number:2\n",
      "Thank you for your input\n"
     ]
    }
   ],
   "source": [
    "try:\n",
    "    x=int(raw_input('Please enter a number:'))\n",
    "finally:\n",
    "    print('Thank you for your input')"
   ]
  },
  {
   "cell_type": "code",
   "execution_count": 220,
   "metadata": {
    "collapsed": true
   },
   "outputs": [],
   "source": [
    "def print_sorted(collection):\n",
    "    try:\n",
    "        collection.sort()\n",
    "    except AttributeError:\n",
    "        pass\n",
    "    print(collection)"
   ]
  },
  {
   "cell_type": "code",
   "execution_count": 221,
   "metadata": {
    "collapsed": false
   },
   "outputs": [
    {
     "name": "stdout",
     "output_type": "stream",
     "text": [
      "[1, 2, 3]\n"
     ]
    }
   ],
   "source": [
    "print_sorted([1,3,2])"
   ]
  },
  {
   "cell_type": "code",
   "execution_count": 222,
   "metadata": {
    "collapsed": false
   },
   "outputs": [
    {
     "name": "stdout",
     "output_type": "stream",
     "text": [
      "set([1, 2, 3])\n"
     ]
    }
   ],
   "source": [
    "print_sorted(set((1,3,2)))"
   ]
  },
  {
   "cell_type": "code",
   "execution_count": 223,
   "metadata": {
    "collapsed": false
   },
   "outputs": [
    {
     "name": "stdout",
     "output_type": "stream",
     "text": [
      "132\n"
     ]
    }
   ],
   "source": [
    "print_sorted('132')"
   ]
  },
  {
   "cell_type": "code",
   "execution_count": 224,
   "metadata": {
    "collapsed": true
   },
   "outputs": [],
   "source": [
    "class Student(object):\n",
    "    def __init__(self,name):\n",
    "        self.name=name\n",
    "    def set_age(self,age):\n",
    "        self.age=age\n",
    "    def set_major(self,major):\n",
    "        self.major=major"
   ]
  },
  {
   "cell_type": "code",
   "execution_count": 225,
   "metadata": {
    "collapsed": true
   },
   "outputs": [],
   "source": [
    "anna=Student('anna')"
   ]
  },
  {
   "cell_type": "code",
   "execution_count": 226,
   "metadata": {
    "collapsed": true
   },
   "outputs": [],
   "source": [
    "anna.set_age(21)"
   ]
  },
  {
   "cell_type": "code",
   "execution_count": 227,
   "metadata": {
    "collapsed": true
   },
   "outputs": [],
   "source": [
    "anna.set_major('physics')"
   ]
  },
  {
   "cell_type": "code",
   "execution_count": 229,
   "metadata": {
    "collapsed": false
   },
   "outputs": [
    {
     "data": {
      "text/plain": [
       "21"
      ]
     },
     "execution_count": 229,
     "metadata": {},
     "output_type": "execute_result"
    }
   ],
   "source": [
    "anna.age"
   ]
  },
  {
   "cell_type": "code",
   "execution_count": 230,
   "metadata": {
    "collapsed": false
   },
   "outputs": [
    {
     "data": {
      "text/plain": [
       "'anna'"
      ]
     },
     "execution_count": 230,
     "metadata": {},
     "output_type": "execute_result"
    }
   ],
   "source": [
    "anna.name"
   ]
  },
  {
   "cell_type": "code",
   "execution_count": 231,
   "metadata": {
    "collapsed": true
   },
   "outputs": [],
   "source": [
    "class MasterStudent(Student):\n",
    "    internship='mandatory,from March to June'"
   ]
  },
  {
   "cell_type": "code",
   "execution_count": 232,
   "metadata": {
    "collapsed": true
   },
   "outputs": [],
   "source": [
    "james=MasterStudent('james')"
   ]
  },
  {
   "cell_type": "code",
   "execution_count": 234,
   "metadata": {
    "collapsed": false
   },
   "outputs": [
    {
     "data": {
      "text/plain": [
       "'mandatory,from March to June'"
      ]
     },
     "execution_count": 234,
     "metadata": {},
     "output_type": "execute_result"
    }
   ],
   "source": [
    "james.internship"
   ]
  },
  {
   "cell_type": "code",
   "execution_count": 235,
   "metadata": {
    "collapsed": true
   },
   "outputs": [],
   "source": [
    "james.set_age(23)"
   ]
  },
  {
   "cell_type": "code",
   "execution_count": 236,
   "metadata": {
    "collapsed": false
   },
   "outputs": [
    {
     "data": {
      "text/plain": [
       "23"
      ]
     },
     "execution_count": 236,
     "metadata": {},
     "output_type": "execute_result"
    }
   ],
   "source": [
    "james.age"
   ]
  },
  {
   "cell_type": "code",
   "execution_count": null,
   "metadata": {
    "collapsed": true
   },
   "outputs": [],
   "source": []
  },
  {
   "cell_type": "code",
   "execution_count": null,
   "metadata": {
    "collapsed": true
   },
   "outputs": [],
   "source": []
  },
  {
   "cell_type": "code",
   "execution_count": null,
   "metadata": {
    "collapsed": true
   },
   "outputs": [],
   "source": []
  },
  {
   "cell_type": "code",
   "execution_count": null,
   "metadata": {
    "collapsed": true
   },
   "outputs": [],
   "source": []
  },
  {
   "cell_type": "code",
   "execution_count": null,
   "metadata": {
    "collapsed": true
   },
   "outputs": [],
   "source": []
  },
  {
   "cell_type": "code",
   "execution_count": null,
   "metadata": {
    "collapsed": true
   },
   "outputs": [],
   "source": []
  },
  {
   "cell_type": "code",
   "execution_count": null,
   "metadata": {
    "collapsed": true
   },
   "outputs": [],
   "source": []
  },
  {
   "cell_type": "code",
   "execution_count": null,
   "metadata": {
    "collapsed": true
   },
   "outputs": [],
   "source": []
  },
  {
   "cell_type": "code",
   "execution_count": null,
   "metadata": {
    "collapsed": true
   },
   "outputs": [],
   "source": []
  },
  {
   "cell_type": "code",
   "execution_count": null,
   "metadata": {
    "collapsed": true
   },
   "outputs": [],
   "source": []
  },
  {
   "cell_type": "code",
   "execution_count": null,
   "metadata": {
    "collapsed": true
   },
   "outputs": [],
   "source": []
  },
  {
   "cell_type": "code",
   "execution_count": null,
   "metadata": {
    "collapsed": true
   },
   "outputs": [],
   "source": []
  },
  {
   "cell_type": "code",
   "execution_count": null,
   "metadata": {
    "collapsed": true
   },
   "outputs": [],
   "source": []
  },
  {
   "cell_type": "code",
   "execution_count": null,
   "metadata": {
    "collapsed": true
   },
   "outputs": [],
   "source": []
  },
  {
   "cell_type": "code",
   "execution_count": null,
   "metadata": {
    "collapsed": true
   },
   "outputs": [],
   "source": []
  },
  {
   "cell_type": "code",
   "execution_count": null,
   "metadata": {
    "collapsed": true
   },
   "outputs": [],
   "source": []
  },
  {
   "cell_type": "code",
   "execution_count": null,
   "metadata": {
    "collapsed": true
   },
   "outputs": [],
   "source": []
  },
  {
   "cell_type": "code",
   "execution_count": null,
   "metadata": {
    "collapsed": true
   },
   "outputs": [],
   "source": []
  }
 ],
 "metadata": {
  "anaconda-cloud": {},
  "kernelspec": {
   "display_name": "Python [Root]",
   "language": "python",
   "name": "Python [Root]"
  },
  "language_info": {
   "codemirror_mode": {
    "name": "ipython",
    "version": 2
   },
   "file_extension": ".py",
   "mimetype": "text/x-python",
   "name": "python",
   "nbconvert_exporter": "python",
   "pygments_lexer": "ipython2",
   "version": "2.7.12"
  }
 },
 "nbformat": 4,
 "nbformat_minor": 0
}
